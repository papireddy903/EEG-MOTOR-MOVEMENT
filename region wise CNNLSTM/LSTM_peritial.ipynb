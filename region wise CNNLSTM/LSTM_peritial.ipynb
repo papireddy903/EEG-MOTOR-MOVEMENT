{
 "cells": [
  {
   "cell_type": "code",
   "execution_count": 116,
   "metadata": {
    "id": "XCNv5MBbbFWs"
   },
   "outputs": [],
   "source": [
    "from tensorflow.keras.datasets import mnist\n",
    "from tensorflow.keras.models import Sequential\n",
    "from tensorflow.keras.layers import Conv1D, MaxPooling1D, Flatten, Dense, LSTM, BatchNormalization, Dropout\n",
    "from tensorflow.keras.callbacks import EarlyStopping\n",
    "import pandas as pd\n",
    "from sklearn.preprocessing import StandardScaler\n",
    "import numpy as np\n",
    "import matplotlib.pyplot as plt\n",
    "from sklearn.metrics import confusion_matrix, classification_report"
   ]
  },
  {
   "cell_type": "code",
   "execution_count": 43,
   "metadata": {
    "id": "j8RTaadkkrLL"
   },
   "outputs": [],
   "source": [
    "# dataset = pd.read_csv(\"./R03_25\")\n",
    "dataset = pd.read_csv(\"C:\\\\Users\\\\papir\\\\Downloads\\\\Telegram Desktop\\\\Task wise combined csv files\\\\Task wise combined csv files\\\\R03_25\")\n"
   ]
  },
  {
   "cell_type": "code",
   "execution_count": 44,
   "metadata": {
    "id": "PpeohlXGzDaG"
   },
   "outputs": [],
   "source": [
    "dataset.drop(columns={\"Unnamed: 0\"}, inplace=True)"
   ]
  },
  {
   "cell_type": "code",
   "execution_count": 45,
   "metadata": {
    "colab": {
     "base_uri": "https://localhost:8080/",
     "height": 255
    },
    "id": "vgdSc6tPzA9B",
    "outputId": "739ce03d-1a4d-4782-a7cd-bb6d44c010ca"
   },
   "outputs": [
    {
     "data": {
      "text/html": [
       "<div>\n",
       "<style scoped>\n",
       "    .dataframe tbody tr th:only-of-type {\n",
       "        vertical-align: middle;\n",
       "    }\n",
       "\n",
       "    .dataframe tbody tr th {\n",
       "        vertical-align: top;\n",
       "    }\n",
       "\n",
       "    .dataframe thead th {\n",
       "        text-align: right;\n",
       "    }\n",
       "</style>\n",
       "<table border=\"1\" class=\"dataframe\">\n",
       "  <thead>\n",
       "    <tr style=\"text-align: right;\">\n",
       "      <th></th>\n",
       "      <th>Fc5.</th>\n",
       "      <th>Fc3.</th>\n",
       "      <th>Fc1.</th>\n",
       "      <th>Fcz.</th>\n",
       "      <th>Fc2.</th>\n",
       "      <th>Fc4.</th>\n",
       "      <th>Fc6.</th>\n",
       "      <th>C5..</th>\n",
       "      <th>C3..</th>\n",
       "      <th>C1..</th>\n",
       "      <th>...</th>\n",
       "      <th>Po7.</th>\n",
       "      <th>Po3.</th>\n",
       "      <th>Poz.</th>\n",
       "      <th>Po4.</th>\n",
       "      <th>Po8.</th>\n",
       "      <th>O1..</th>\n",
       "      <th>Oz..</th>\n",
       "      <th>O2..</th>\n",
       "      <th>Iz..</th>\n",
       "      <th>label</th>\n",
       "    </tr>\n",
       "  </thead>\n",
       "  <tbody>\n",
       "    <tr>\n",
       "      <th>0</th>\n",
       "      <td>-57.0</td>\n",
       "      <td>-13.0</td>\n",
       "      <td>-15.0</td>\n",
       "      <td>-12.0</td>\n",
       "      <td>-13.0</td>\n",
       "      <td>-8.0</td>\n",
       "      <td>-40.0</td>\n",
       "      <td>-54.0</td>\n",
       "      <td>-12.0</td>\n",
       "      <td>-14.0</td>\n",
       "      <td>...</td>\n",
       "      <td>-38.0</td>\n",
       "      <td>-42.0</td>\n",
       "      <td>-68.0</td>\n",
       "      <td>-76.0</td>\n",
       "      <td>-103.0</td>\n",
       "      <td>-51.0</td>\n",
       "      <td>-56.0</td>\n",
       "      <td>-124.0</td>\n",
       "      <td>-28.0</td>\n",
       "      <td>0</td>\n",
       "    </tr>\n",
       "    <tr>\n",
       "      <th>1</th>\n",
       "      <td>-49.0</td>\n",
       "      <td>-11.0</td>\n",
       "      <td>-10.0</td>\n",
       "      <td>-12.0</td>\n",
       "      <td>-19.0</td>\n",
       "      <td>-24.0</td>\n",
       "      <td>-58.0</td>\n",
       "      <td>-51.0</td>\n",
       "      <td>-19.0</td>\n",
       "      <td>-23.0</td>\n",
       "      <td>...</td>\n",
       "      <td>-55.0</td>\n",
       "      <td>-63.0</td>\n",
       "      <td>-82.0</td>\n",
       "      <td>-87.0</td>\n",
       "      <td>-99.0</td>\n",
       "      <td>-59.0</td>\n",
       "      <td>-70.0</td>\n",
       "      <td>-149.0</td>\n",
       "      <td>-40.0</td>\n",
       "      <td>0</td>\n",
       "    </tr>\n",
       "    <tr>\n",
       "      <th>2</th>\n",
       "      <td>-55.0</td>\n",
       "      <td>-17.0</td>\n",
       "      <td>-16.0</td>\n",
       "      <td>-19.0</td>\n",
       "      <td>-24.0</td>\n",
       "      <td>-29.0</td>\n",
       "      <td>-66.0</td>\n",
       "      <td>-61.0</td>\n",
       "      <td>-30.0</td>\n",
       "      <td>-36.0</td>\n",
       "      <td>...</td>\n",
       "      <td>-63.0</td>\n",
       "      <td>-72.0</td>\n",
       "      <td>-91.0</td>\n",
       "      <td>-92.0</td>\n",
       "      <td>-91.0</td>\n",
       "      <td>-67.0</td>\n",
       "      <td>-77.0</td>\n",
       "      <td>-153.0</td>\n",
       "      <td>-37.0</td>\n",
       "      <td>0</td>\n",
       "    </tr>\n",
       "    <tr>\n",
       "      <th>3</th>\n",
       "      <td>-73.0</td>\n",
       "      <td>-42.0</td>\n",
       "      <td>-40.0</td>\n",
       "      <td>-37.0</td>\n",
       "      <td>-37.0</td>\n",
       "      <td>-40.0</td>\n",
       "      <td>-71.0</td>\n",
       "      <td>-78.0</td>\n",
       "      <td>-53.0</td>\n",
       "      <td>-53.0</td>\n",
       "      <td>...</td>\n",
       "      <td>-52.0</td>\n",
       "      <td>-66.0</td>\n",
       "      <td>-100.0</td>\n",
       "      <td>-105.0</td>\n",
       "      <td>-105.0</td>\n",
       "      <td>-67.0</td>\n",
       "      <td>-72.0</td>\n",
       "      <td>-148.0</td>\n",
       "      <td>-26.0</td>\n",
       "      <td>0</td>\n",
       "    </tr>\n",
       "    <tr>\n",
       "      <th>4</th>\n",
       "      <td>-87.0</td>\n",
       "      <td>-53.0</td>\n",
       "      <td>-52.0</td>\n",
       "      <td>-51.0</td>\n",
       "      <td>-45.0</td>\n",
       "      <td>-43.0</td>\n",
       "      <td>-71.0</td>\n",
       "      <td>-87.0</td>\n",
       "      <td>-65.0</td>\n",
       "      <td>-64.0</td>\n",
       "      <td>...</td>\n",
       "      <td>-82.0</td>\n",
       "      <td>-90.0</td>\n",
       "      <td>-117.0</td>\n",
       "      <td>-119.0</td>\n",
       "      <td>-118.0</td>\n",
       "      <td>-75.0</td>\n",
       "      <td>-82.0</td>\n",
       "      <td>-161.0</td>\n",
       "      <td>-35.0</td>\n",
       "      <td>0</td>\n",
       "    </tr>\n",
       "  </tbody>\n",
       "</table>\n",
       "<p>5 rows × 65 columns</p>\n",
       "</div>"
      ],
      "text/plain": [
       "   Fc5.  Fc3.  Fc1.  Fcz.  Fc2.  Fc4.  Fc6.  C5..  C3..  C1..  ...  Po7.  \\\n",
       "0 -57.0 -13.0 -15.0 -12.0 -13.0  -8.0 -40.0 -54.0 -12.0 -14.0  ... -38.0   \n",
       "1 -49.0 -11.0 -10.0 -12.0 -19.0 -24.0 -58.0 -51.0 -19.0 -23.0  ... -55.0   \n",
       "2 -55.0 -17.0 -16.0 -19.0 -24.0 -29.0 -66.0 -61.0 -30.0 -36.0  ... -63.0   \n",
       "3 -73.0 -42.0 -40.0 -37.0 -37.0 -40.0 -71.0 -78.0 -53.0 -53.0  ... -52.0   \n",
       "4 -87.0 -53.0 -52.0 -51.0 -45.0 -43.0 -71.0 -87.0 -65.0 -64.0  ... -82.0   \n",
       "\n",
       "   Po3.   Poz.   Po4.   Po8.  O1..  Oz..   O2..  Iz..  label  \n",
       "0 -42.0  -68.0  -76.0 -103.0 -51.0 -56.0 -124.0 -28.0      0  \n",
       "1 -63.0  -82.0  -87.0  -99.0 -59.0 -70.0 -149.0 -40.0      0  \n",
       "2 -72.0  -91.0  -92.0  -91.0 -67.0 -77.0 -153.0 -37.0      0  \n",
       "3 -66.0 -100.0 -105.0 -105.0 -67.0 -72.0 -148.0 -26.0      0  \n",
       "4 -90.0 -117.0 -119.0 -118.0 -75.0 -82.0 -161.0 -35.0      0  \n",
       "\n",
       "[5 rows x 65 columns]"
      ]
     },
     "execution_count": 45,
     "metadata": {},
     "output_type": "execute_result"
    }
   ],
   "source": [
    "dataset.head()"
   ]
  },
  {
   "cell_type": "code",
   "execution_count": 70,
   "metadata": {},
   "outputs": [
    {
     "data": {
      "text/html": [
       "<div>\n",
       "<style scoped>\n",
       "    .dataframe tbody tr th:only-of-type {\n",
       "        vertical-align: middle;\n",
       "    }\n",
       "\n",
       "    .dataframe tbody tr th {\n",
       "        vertical-align: top;\n",
       "    }\n",
       "\n",
       "    .dataframe thead th {\n",
       "        text-align: right;\n",
       "    }\n",
       "</style>\n",
       "<table border=\"1\" class=\"dataframe\">\n",
       "  <thead>\n",
       "    <tr style=\"text-align: right;\">\n",
       "      <th></th>\n",
       "      <th>Cp5.</th>\n",
       "      <th>Cp3.</th>\n",
       "      <th>Cp1.</th>\n",
       "      <th>Cpz.</th>\n",
       "      <th>Cp2.</th>\n",
       "      <th>Cp4.</th>\n",
       "      <th>Cp6.</th>\n",
       "      <th>P7..</th>\n",
       "      <th>P5..</th>\n",
       "      <th>P3..</th>\n",
       "      <th>P1..</th>\n",
       "      <th>Pz..</th>\n",
       "      <th>P2..</th>\n",
       "      <th>P4..</th>\n",
       "      <th>P6..</th>\n",
       "      <th>P8..</th>\n",
       "      <th>Po7.</th>\n",
       "      <th>Po3.</th>\n",
       "      <th>Po4.</th>\n",
       "      <th>Po8.</th>\n",
       "    </tr>\n",
       "  </thead>\n",
       "  <tbody>\n",
       "    <tr>\n",
       "      <th>0</th>\n",
       "      <td>-10.0</td>\n",
       "      <td>-14.0</td>\n",
       "      <td>-21.0</td>\n",
       "      <td>-25.0</td>\n",
       "      <td>-23.0</td>\n",
       "      <td>-34.0</td>\n",
       "      <td>-24.0</td>\n",
       "      <td>-7.0</td>\n",
       "      <td>-16.0</td>\n",
       "      <td>-43.0</td>\n",
       "      <td>-42.0</td>\n",
       "      <td>-44.0</td>\n",
       "      <td>-45.0</td>\n",
       "      <td>-44.0</td>\n",
       "      <td>-52.0</td>\n",
       "      <td>-48.0</td>\n",
       "      <td>-38.0</td>\n",
       "      <td>-42.0</td>\n",
       "      <td>-76.0</td>\n",
       "      <td>-103.0</td>\n",
       "    </tr>\n",
       "    <tr>\n",
       "      <th>1</th>\n",
       "      <td>-23.0</td>\n",
       "      <td>-30.0</td>\n",
       "      <td>-40.0</td>\n",
       "      <td>-41.0</td>\n",
       "      <td>-40.0</td>\n",
       "      <td>-53.0</td>\n",
       "      <td>-40.0</td>\n",
       "      <td>-31.0</td>\n",
       "      <td>-42.0</td>\n",
       "      <td>-67.0</td>\n",
       "      <td>-64.0</td>\n",
       "      <td>-66.0</td>\n",
       "      <td>-62.0</td>\n",
       "      <td>-62.0</td>\n",
       "      <td>-60.0</td>\n",
       "      <td>-55.0</td>\n",
       "      <td>-55.0</td>\n",
       "      <td>-63.0</td>\n",
       "      <td>-87.0</td>\n",
       "      <td>-99.0</td>\n",
       "    </tr>\n",
       "    <tr>\n",
       "      <th>2</th>\n",
       "      <td>-50.0</td>\n",
       "      <td>-47.0</td>\n",
       "      <td>-56.0</td>\n",
       "      <td>-59.0</td>\n",
       "      <td>-58.0</td>\n",
       "      <td>-70.0</td>\n",
       "      <td>-54.0</td>\n",
       "      <td>-43.0</td>\n",
       "      <td>-54.0</td>\n",
       "      <td>-74.0</td>\n",
       "      <td>-79.0</td>\n",
       "      <td>-79.0</td>\n",
       "      <td>-76.0</td>\n",
       "      <td>-70.0</td>\n",
       "      <td>-66.0</td>\n",
       "      <td>-54.0</td>\n",
       "      <td>-63.0</td>\n",
       "      <td>-72.0</td>\n",
       "      <td>-92.0</td>\n",
       "      <td>-91.0</td>\n",
       "    </tr>\n",
       "    <tr>\n",
       "      <th>3</th>\n",
       "      <td>-50.0</td>\n",
       "      <td>-60.0</td>\n",
       "      <td>-68.0</td>\n",
       "      <td>-69.0</td>\n",
       "      <td>-68.0</td>\n",
       "      <td>-82.0</td>\n",
       "      <td>-65.0</td>\n",
       "      <td>-13.0</td>\n",
       "      <td>-47.0</td>\n",
       "      <td>-81.0</td>\n",
       "      <td>-88.0</td>\n",
       "      <td>-88.0</td>\n",
       "      <td>-86.0</td>\n",
       "      <td>-83.0</td>\n",
       "      <td>-77.0</td>\n",
       "      <td>-65.0</td>\n",
       "      <td>-52.0</td>\n",
       "      <td>-66.0</td>\n",
       "      <td>-105.0</td>\n",
       "      <td>-105.0</td>\n",
       "    </tr>\n",
       "    <tr>\n",
       "      <th>4</th>\n",
       "      <td>-48.0</td>\n",
       "      <td>-71.0</td>\n",
       "      <td>-78.0</td>\n",
       "      <td>-78.0</td>\n",
       "      <td>-76.0</td>\n",
       "      <td>-91.0</td>\n",
       "      <td>-73.0</td>\n",
       "      <td>-43.0</td>\n",
       "      <td>-65.0</td>\n",
       "      <td>-97.0</td>\n",
       "      <td>-103.0</td>\n",
       "      <td>-100.0</td>\n",
       "      <td>-100.0</td>\n",
       "      <td>-99.0</td>\n",
       "      <td>-92.0</td>\n",
       "      <td>-75.0</td>\n",
       "      <td>-82.0</td>\n",
       "      <td>-90.0</td>\n",
       "      <td>-119.0</td>\n",
       "      <td>-118.0</td>\n",
       "    </tr>\n",
       "  </tbody>\n",
       "</table>\n",
       "</div>"
      ],
      "text/plain": [
       "   Cp5.  Cp3.  Cp1.  Cpz.  Cp2.  Cp4.  Cp6.  P7..  P5..  P3..   P1..   Pz..  \\\n",
       "0 -10.0 -14.0 -21.0 -25.0 -23.0 -34.0 -24.0  -7.0 -16.0 -43.0  -42.0  -44.0   \n",
       "1 -23.0 -30.0 -40.0 -41.0 -40.0 -53.0 -40.0 -31.0 -42.0 -67.0  -64.0  -66.0   \n",
       "2 -50.0 -47.0 -56.0 -59.0 -58.0 -70.0 -54.0 -43.0 -54.0 -74.0  -79.0  -79.0   \n",
       "3 -50.0 -60.0 -68.0 -69.0 -68.0 -82.0 -65.0 -13.0 -47.0 -81.0  -88.0  -88.0   \n",
       "4 -48.0 -71.0 -78.0 -78.0 -76.0 -91.0 -73.0 -43.0 -65.0 -97.0 -103.0 -100.0   \n",
       "\n",
       "    P2..  P4..  P6..  P8..  Po7.  Po3.   Po4.   Po8.  \n",
       "0  -45.0 -44.0 -52.0 -48.0 -38.0 -42.0  -76.0 -103.0  \n",
       "1  -62.0 -62.0 -60.0 -55.0 -55.0 -63.0  -87.0  -99.0  \n",
       "2  -76.0 -70.0 -66.0 -54.0 -63.0 -72.0  -92.0  -91.0  \n",
       "3  -86.0 -83.0 -77.0 -65.0 -52.0 -66.0 -105.0 -105.0  \n",
       "4 -100.0 -99.0 -92.0 -75.0 -82.0 -90.0 -119.0 -118.0  "
      ]
     },
     "execution_count": 70,
     "metadata": {},
     "output_type": "execute_result"
    }
   ],
   "source": [
    "parietal_dataset = pd.DataFrame()\n",
    "parietal_region = ['Cp5.', 'Cp3.', 'Cp1.', 'Cpz.', 'Cp2.', 'Cp4.', 'Cp6.', 'P7..', 'P5..', 'P3..', 'P1..', 'Pz..', 'P2..', 'P4..', 'P6..', 'P8..', 'Po7.', 'Po3.', 'Po4.', 'Po8.']\n",
    "for column in dataset.columns:\n",
    "    if column in parietal_region:\n",
    "        parietal_dataset[column] = dataset[column] \n",
    "parietal_dataset.head()\n",
    "    "
   ]
  },
  {
   "cell_type": "code",
   "execution_count": 71,
   "metadata": {},
   "outputs": [],
   "source": [
    "data = parietal_dataset\n",
    "data['label'] = dataset['label']"
   ]
  },
  {
   "cell_type": "code",
   "execution_count": 72,
   "metadata": {},
   "outputs": [
    {
     "data": {
      "text/html": [
       "<div>\n",
       "<style scoped>\n",
       "    .dataframe tbody tr th:only-of-type {\n",
       "        vertical-align: middle;\n",
       "    }\n",
       "\n",
       "    .dataframe tbody tr th {\n",
       "        vertical-align: top;\n",
       "    }\n",
       "\n",
       "    .dataframe thead th {\n",
       "        text-align: right;\n",
       "    }\n",
       "</style>\n",
       "<table border=\"1\" class=\"dataframe\">\n",
       "  <thead>\n",
       "    <tr style=\"text-align: right;\">\n",
       "      <th></th>\n",
       "      <th>Cp5.</th>\n",
       "      <th>Cp3.</th>\n",
       "      <th>Cp1.</th>\n",
       "      <th>Cpz.</th>\n",
       "      <th>Cp2.</th>\n",
       "      <th>Cp4.</th>\n",
       "      <th>Cp6.</th>\n",
       "      <th>P7..</th>\n",
       "      <th>P5..</th>\n",
       "      <th>P3..</th>\n",
       "      <th>...</th>\n",
       "      <th>Pz..</th>\n",
       "      <th>P2..</th>\n",
       "      <th>P4..</th>\n",
       "      <th>P6..</th>\n",
       "      <th>P8..</th>\n",
       "      <th>Po7.</th>\n",
       "      <th>Po3.</th>\n",
       "      <th>Po4.</th>\n",
       "      <th>Po8.</th>\n",
       "      <th>label</th>\n",
       "    </tr>\n",
       "  </thead>\n",
       "  <tbody>\n",
       "    <tr>\n",
       "      <th>0</th>\n",
       "      <td>-10.0</td>\n",
       "      <td>-14.0</td>\n",
       "      <td>-21.0</td>\n",
       "      <td>-25.0</td>\n",
       "      <td>-23.0</td>\n",
       "      <td>-34.0</td>\n",
       "      <td>-24.0</td>\n",
       "      <td>-7.0</td>\n",
       "      <td>-16.0</td>\n",
       "      <td>-43.0</td>\n",
       "      <td>...</td>\n",
       "      <td>-44.0</td>\n",
       "      <td>-45.0</td>\n",
       "      <td>-44.0</td>\n",
       "      <td>-52.0</td>\n",
       "      <td>-48.0</td>\n",
       "      <td>-38.0</td>\n",
       "      <td>-42.0</td>\n",
       "      <td>-76.0</td>\n",
       "      <td>-103.0</td>\n",
       "      <td>0</td>\n",
       "    </tr>\n",
       "    <tr>\n",
       "      <th>1</th>\n",
       "      <td>-23.0</td>\n",
       "      <td>-30.0</td>\n",
       "      <td>-40.0</td>\n",
       "      <td>-41.0</td>\n",
       "      <td>-40.0</td>\n",
       "      <td>-53.0</td>\n",
       "      <td>-40.0</td>\n",
       "      <td>-31.0</td>\n",
       "      <td>-42.0</td>\n",
       "      <td>-67.0</td>\n",
       "      <td>...</td>\n",
       "      <td>-66.0</td>\n",
       "      <td>-62.0</td>\n",
       "      <td>-62.0</td>\n",
       "      <td>-60.0</td>\n",
       "      <td>-55.0</td>\n",
       "      <td>-55.0</td>\n",
       "      <td>-63.0</td>\n",
       "      <td>-87.0</td>\n",
       "      <td>-99.0</td>\n",
       "      <td>0</td>\n",
       "    </tr>\n",
       "    <tr>\n",
       "      <th>2</th>\n",
       "      <td>-50.0</td>\n",
       "      <td>-47.0</td>\n",
       "      <td>-56.0</td>\n",
       "      <td>-59.0</td>\n",
       "      <td>-58.0</td>\n",
       "      <td>-70.0</td>\n",
       "      <td>-54.0</td>\n",
       "      <td>-43.0</td>\n",
       "      <td>-54.0</td>\n",
       "      <td>-74.0</td>\n",
       "      <td>...</td>\n",
       "      <td>-79.0</td>\n",
       "      <td>-76.0</td>\n",
       "      <td>-70.0</td>\n",
       "      <td>-66.0</td>\n",
       "      <td>-54.0</td>\n",
       "      <td>-63.0</td>\n",
       "      <td>-72.0</td>\n",
       "      <td>-92.0</td>\n",
       "      <td>-91.0</td>\n",
       "      <td>0</td>\n",
       "    </tr>\n",
       "    <tr>\n",
       "      <th>3</th>\n",
       "      <td>-50.0</td>\n",
       "      <td>-60.0</td>\n",
       "      <td>-68.0</td>\n",
       "      <td>-69.0</td>\n",
       "      <td>-68.0</td>\n",
       "      <td>-82.0</td>\n",
       "      <td>-65.0</td>\n",
       "      <td>-13.0</td>\n",
       "      <td>-47.0</td>\n",
       "      <td>-81.0</td>\n",
       "      <td>...</td>\n",
       "      <td>-88.0</td>\n",
       "      <td>-86.0</td>\n",
       "      <td>-83.0</td>\n",
       "      <td>-77.0</td>\n",
       "      <td>-65.0</td>\n",
       "      <td>-52.0</td>\n",
       "      <td>-66.0</td>\n",
       "      <td>-105.0</td>\n",
       "      <td>-105.0</td>\n",
       "      <td>0</td>\n",
       "    </tr>\n",
       "    <tr>\n",
       "      <th>4</th>\n",
       "      <td>-48.0</td>\n",
       "      <td>-71.0</td>\n",
       "      <td>-78.0</td>\n",
       "      <td>-78.0</td>\n",
       "      <td>-76.0</td>\n",
       "      <td>-91.0</td>\n",
       "      <td>-73.0</td>\n",
       "      <td>-43.0</td>\n",
       "      <td>-65.0</td>\n",
       "      <td>-97.0</td>\n",
       "      <td>...</td>\n",
       "      <td>-100.0</td>\n",
       "      <td>-100.0</td>\n",
       "      <td>-99.0</td>\n",
       "      <td>-92.0</td>\n",
       "      <td>-75.0</td>\n",
       "      <td>-82.0</td>\n",
       "      <td>-90.0</td>\n",
       "      <td>-119.0</td>\n",
       "      <td>-118.0</td>\n",
       "      <td>0</td>\n",
       "    </tr>\n",
       "  </tbody>\n",
       "</table>\n",
       "<p>5 rows × 21 columns</p>\n",
       "</div>"
      ],
      "text/plain": [
       "   Cp5.  Cp3.  Cp1.  Cpz.  Cp2.  Cp4.  Cp6.  P7..  P5..  P3..  ...   Pz..  \\\n",
       "0 -10.0 -14.0 -21.0 -25.0 -23.0 -34.0 -24.0  -7.0 -16.0 -43.0  ...  -44.0   \n",
       "1 -23.0 -30.0 -40.0 -41.0 -40.0 -53.0 -40.0 -31.0 -42.0 -67.0  ...  -66.0   \n",
       "2 -50.0 -47.0 -56.0 -59.0 -58.0 -70.0 -54.0 -43.0 -54.0 -74.0  ...  -79.0   \n",
       "3 -50.0 -60.0 -68.0 -69.0 -68.0 -82.0 -65.0 -13.0 -47.0 -81.0  ...  -88.0   \n",
       "4 -48.0 -71.0 -78.0 -78.0 -76.0 -91.0 -73.0 -43.0 -65.0 -97.0  ... -100.0   \n",
       "\n",
       "    P2..  P4..  P6..  P8..  Po7.  Po3.   Po4.   Po8.  label  \n",
       "0  -45.0 -44.0 -52.0 -48.0 -38.0 -42.0  -76.0 -103.0      0  \n",
       "1  -62.0 -62.0 -60.0 -55.0 -55.0 -63.0  -87.0  -99.0      0  \n",
       "2  -76.0 -70.0 -66.0 -54.0 -63.0 -72.0  -92.0  -91.0      0  \n",
       "3  -86.0 -83.0 -77.0 -65.0 -52.0 -66.0 -105.0 -105.0      0  \n",
       "4 -100.0 -99.0 -92.0 -75.0 -82.0 -90.0 -119.0 -118.0      0  \n",
       "\n",
       "[5 rows x 21 columns]"
      ]
     },
     "execution_count": 72,
     "metadata": {},
     "output_type": "execute_result"
    }
   ],
   "source": [
    "data.head()"
   ]
  },
  {
   "cell_type": "code",
   "execution_count": 73,
   "metadata": {},
   "outputs": [
    {
     "data": {
      "text/plain": [
       "(493200, 21)"
      ]
     },
     "execution_count": 73,
     "metadata": {},
     "output_type": "execute_result"
    }
   ],
   "source": [
    "data.shape"
   ]
  },
  {
   "cell_type": "code",
   "execution_count": 74,
   "metadata": {},
   "outputs": [
    {
     "name": "stdout",
     "output_type": "stream",
     "text": [
      "Index(['Cp5.', 'Cp3.', 'Cp1.', 'Cpz.', 'Cp2.', 'Cp4.', 'Cp6.', 'P7..', 'P5..',\n",
      "       'P3..', 'P1..', 'Pz..', 'P2..', 'P4..', 'P6..', 'P8..', 'Po7.', 'Po3.',\n",
      "       'Po4.', 'Po8.', 'label'],\n",
      "      dtype='object')\n"
     ]
    }
   ],
   "source": [
    "len(data.columns)\n",
    "print(data.columns)"
   ]
  },
  {
   "cell_type": "code",
   "execution_count": 75,
   "metadata": {
    "id": "VvwA8JFQuHWA"
   },
   "outputs": [],
   "source": [
    "from sklearn.model_selection import train_test_split\n",
    "X = data.drop(columns={\"label\"})\n",
    "Y = data['label']\n",
    "X_train,X_test,Y_train,Y_test = train_test_split(X,Y,test_size=0.2,random_state=42)\n",
    "X_train = np.array(X_train)\n",
    "X_test = np.array(X_test)\n",
    "scaler = StandardScaler()\n",
    "X_train_scaled =  scaler.fit_transform(X_train)\n",
    "X_test_scaled = scaler.transform(X_test)\n",
    "X_train_reshaped = X_train_scaled.reshape(X_train.shape[0],X_train.shape[1],1)\n",
    "X_test_reshaped = X_test_scaled.reshape(X_test.shape[0],X_test.shape[1],1)\n",
    "\n",
    "num_samples = X_train.shape[0]\n",
    "num_features = X_train.shape[1]\n"
   ]
  },
  {
   "cell_type": "code",
   "execution_count": 76,
   "metadata": {},
   "outputs": [],
   "source": [
    "train_accuracies = []\n",
    "val_accuracies = []\n",
    "losses = []"
   ]
  },
  {
   "cell_type": "code",
   "execution_count": 77,
   "metadata": {
    "id": "jYyrljp0u1iv"
   },
   "outputs": [],
   "source": [
    "model = Sequential()\n",
    "model.add(Conv1D(32, kernel_size=3, activation='relu', input_shape=(X_train_reshaped.shape[1], 1)))\n",
    "model.add(BatchNormalization())\n",
    "model.add(MaxPooling1D(pool_size=2, padding='same'))\n",
    "model.add(Conv1D(64, kernel_size=3, activation='relu'))\n",
    "model.add(BatchNormalization())\n",
    "model.add(MaxPooling1D(pool_size=2, padding='same'))\n",
    "model.add(Conv1D(128, kernel_size=2, activation='relu'))\n",
    "model.add(BatchNormalization())\n",
    "model.add(MaxPooling1D(pool_size=2, padding='same'))\n",
    "model.add(Conv1D(128, kernel_size=2, activation='relu'))\n",
    "model.add(BatchNormalization())\n",
    "model.add(MaxPooling1D(pool_size=2, padding='same'))\n",
    "model.add(LSTM(64, return_sequences=True))\n",
    "model.add(LSTM(64))\n",
    "model.add(Flatten())\n",
    "model.add(Dense(128, activation='relu'))\n",
    "model.add(BatchNormalization())\n",
    "model.add(Dropout(0.5))  \n",
    "model.add(Dense(3, activation='softmax'))\n"
   ]
  },
  {
   "cell_type": "code",
   "execution_count": 78,
   "metadata": {
    "id": "NwV4a5n7vApk"
   },
   "outputs": [],
   "source": [
    "model.compile(loss='sparse_categorical_crossentropy', optimizer='adam', metrics=['accuracy'])"
   ]
  },
  {
   "cell_type": "code",
   "execution_count": 79,
   "metadata": {},
   "outputs": [],
   "source": [
    "early_stopping = EarlyStopping(monitor='val_loss', patience=5, restore_best_weights=True)"
   ]
  },
  {
   "cell_type": "code",
   "execution_count": 92,
   "metadata": {
    "colab": {
     "base_uri": "https://localhost:8080/"
    },
    "id": "uE79f8lQvYqB",
    "outputId": "1824f448-88b7-47b3-8b40-982f1b2276f4",
    "scrolled": true
   },
   "outputs": [
    {
     "name": "stdout",
     "output_type": "stream",
     "text": [
      "11097/11097 [==============================] - 10695s 964ms/step - loss: 0.4891 - accuracy: 0.7865 - val_loss: 0.5545 - val_accuracy: 0.7564\n",
      "epoch 42/100\n",
      "11097/11097 [==============================] - 81s 7ms/step - loss: 0.4892 - accuracy: 0.7860 - val_loss: 0.5568 - val_accuracy: 0.7572\n",
      "epoch 43/100\n",
      "11097/11097 [==============================] - 91s 8ms/step - loss: 0.4879 - accuracy: 0.7867 - val_loss: 0.5590 - val_accuracy: 0.7544\n",
      "epoch 44/100\n",
      "11097/11097 [==============================] - 91s 8ms/step - loss: 0.4874 - accuracy: 0.7864 - val_loss: 0.5527 - val_accuracy: 0.7547\n",
      "epoch 45/100\n",
      "11097/11097 [==============================] - 96s 9ms/step - loss: 0.4869 - accuracy: 0.7870 - val_loss: 0.5502 - val_accuracy: 0.7565\n",
      "epoch 46/100\n",
      "11097/11097 [==============================] - 91s 8ms/step - loss: 0.4857 - accuracy: 0.7890 - val_loss: 0.5495 - val_accuracy: 0.7548\n",
      "epoch 47/100\n",
      "11097/11097 [==============================] - 91s 8ms/step - loss: 0.4860 - accuracy: 0.7883 - val_loss: 0.5515 - val_accuracy: 0.7513\n",
      "epoch 48/100\n",
      "11097/11097 [==============================] - 98s 9ms/step - loss: 0.4843 - accuracy: 0.7886 - val_loss: 0.5551 - val_accuracy: 0.7523\n",
      "epoch 49/100\n",
      "11097/11097 [==============================] - 92s 8ms/step - loss: 0.4847 - accuracy: 0.7887 - val_loss: 0.5480 - val_accuracy: 0.7599\n",
      "epoch 50/100\n",
      "11097/11097 [==============================] - 89s 8ms/step - loss: 0.4841 - accuracy: 0.7888 - val_loss: 0.5536 - val_accuracy: 0.7544\n",
      "epoch 51/100\n",
      "11097/11097 [==============================] - 90s 8ms/step - loss: 0.4823 - accuracy: 0.7905 - val_loss: 0.5637 - val_accuracy: 0.7558\n",
      "epoch 52/100\n",
      "11097/11097 [==============================] - 91s 8ms/step - loss: 0.4829 - accuracy: 0.7897 - val_loss: 0.5457 - val_accuracy: 0.7563\n",
      "epoch 53/100\n",
      "11097/11097 [==============================] - 91s 8ms/step - loss: 0.4834 - accuracy: 0.7899 - val_loss: 0.5533 - val_accuracy: 0.7568\n",
      "epoch 54/100\n",
      "11097/11097 [==============================] - 89s 8ms/step - loss: 0.4834 - accuracy: 0.7888 - val_loss: 0.5553 - val_accuracy: 0.7579\n",
      "epoch 55/100\n",
      "11097/11097 [==============================] - 90s 8ms/step - loss: 0.4816 - accuracy: 0.7902 - val_loss: 0.5574 - val_accuracy: 0.7547\n",
      "epoch 56/100\n",
      "11097/11097 [==============================] - 90s 8ms/step - loss: 0.4807 - accuracy: 0.7906 - val_loss: 0.5511 - val_accuracy: 0.7572\n",
      "epoch 57/100\n",
      "11097/11097 [==============================] - 90s 8ms/step - loss: 0.4823 - accuracy: 0.7905 - val_loss: 0.5519 - val_accuracy: 0.7554\n",
      "epoch 58/100\n",
      "11097/11097 [==============================] - 90s 8ms/step - loss: 0.4810 - accuracy: 0.7901 - val_loss: 0.5524 - val_accuracy: 0.7566\n",
      "epoch 59/100\n",
      "11097/11097 [==============================] - 90s 8ms/step - loss: 0.4802 - accuracy: 0.7912 - val_loss: 0.5572 - val_accuracy: 0.7564\n",
      "epoch 60/100\n",
      "11097/11097 [==============================] - 91s 8ms/step - loss: 0.4811 - accuracy: 0.7902 - val_loss: 0.5596 - val_accuracy: 0.7560\n",
      "epoch 61/100\n",
      "11097/11097 [==============================] - 97s 9ms/step - loss: 0.4810 - accuracy: 0.7906 - val_loss: 0.5546 - val_accuracy: 0.7545\n",
      "epoch 62/100\n",
      "11097/11097 [==============================] - 92s 8ms/step - loss: 0.4798 - accuracy: 0.7915 - val_loss: 0.5547 - val_accuracy: 0.7540\n",
      "epoch 63/100\n",
      "11097/11097 [==============================] - 90s 8ms/step - loss: 0.4781 - accuracy: 0.7920 - val_loss: 0.5542 - val_accuracy: 0.7587\n",
      "epoch 64/100\n",
      "11097/11097 [==============================] - 94s 8ms/step - loss: 0.4785 - accuracy: 0.7919 - val_loss: 0.5467 - val_accuracy: 0.7570\n",
      "epoch 65/100\n",
      "11097/11097 [==============================] - 92s 8ms/step - loss: 0.4781 - accuracy: 0.7918 - val_loss: 0.5559 - val_accuracy: 0.7567\n",
      "epoch 66/100\n",
      "11097/11097 [==============================] - 92s 8ms/step - loss: 0.4780 - accuracy: 0.7924 - val_loss: 0.5520 - val_accuracy: 0.7604\n",
      "epoch 67/100\n",
      "11097/11097 [==============================] - 93s 8ms/step - loss: 0.4781 - accuracy: 0.7922 - val_loss: 0.5525 - val_accuracy: 0.7586\n",
      "epoch 68/100\n",
      "11097/11097 [==============================] - 93s 8ms/step - loss: 0.4780 - accuracy: 0.7927 - val_loss: 0.5541 - val_accuracy: 0.7543\n",
      "epoch 69/100\n",
      "11097/11097 [==============================] - 92s 8ms/step - loss: 0.4771 - accuracy: 0.7926 - val_loss: 0.5535 - val_accuracy: 0.7570\n",
      "epoch 70/100\n",
      "11097/11097 [==============================] - 93s 8ms/step - loss: 0.4767 - accuracy: 0.7934 - val_loss: 0.5519 - val_accuracy: 0.7590\n",
      "epoch 71/100\n",
      "11097/11097 [==============================] - 111s 10ms/step - loss: 0.4768 - accuracy: 0.7931 - val_loss: 0.5572 - val_accuracy: 0.7550\n",
      "epoch 72/100\n",
      "11097/11097 [==============================] - 110s 10ms/step - loss: 0.4766 - accuracy: 0.7933 - val_loss: 0.5504 - val_accuracy: 0.7553\n",
      "epoch 73/100\n",
      "11097/11097 [==============================] - 114s 10ms/step - loss: 0.4765 - accuracy: 0.7935 - val_loss: 0.5546 - val_accuracy: 0.7563\n",
      "epoch 74/100\n",
      "11097/11097 [==============================] - 110s 10ms/step - loss: 0.4757 - accuracy: 0.7931 - val_loss: 0.5527 - val_accuracy: 0.7568\n",
      "epoch 75/100\n",
      "11097/11097 [==============================] - 112s 10ms/step - loss: 0.4739 - accuracy: 0.7942 - val_loss: 0.5510 - val_accuracy: 0.7587\n",
      "epoch 76/100\n",
      "11097/11097 [==============================] - 108s 10ms/step - loss: 0.4742 - accuracy: 0.7936 - val_loss: 0.5527 - val_accuracy: 0.7586\n",
      "epoch 77/100\n",
      "11097/11097 [==============================] - 106s 10ms/step - loss: 0.4729 - accuracy: 0.7951 - val_loss: 0.5568 - val_accuracy: 0.7576\n",
      "epoch 78/100\n",
      "11097/11097 [==============================] - 108s 10ms/step - loss: 0.4738 - accuracy: 0.7945 - val_loss: 0.5538 - val_accuracy: 0.7523\n",
      "epoch 79/100\n",
      "11097/11097 [==============================] - 111s 10ms/step - loss: 0.4736 - accuracy: 0.7951 - val_loss: 0.5541 - val_accuracy: 0.7611\n",
      "epoch 80/100\n",
      "11097/11097 [==============================] - 106s 10ms/step - loss: 0.4744 - accuracy: 0.7942 - val_loss: 0.5499 - val_accuracy: 0.7570\n",
      "epoch 81/100\n",
      "11097/11097 [==============================] - 120s 11ms/step - loss: 0.4735 - accuracy: 0.7945 - val_loss: 0.5550 - val_accuracy: 0.7557\n",
      "epoch 82/100\n",
      "11097/11097 [==============================] - 115s 10ms/step - loss: 0.4726 - accuracy: 0.7948 - val_loss: 0.5496 - val_accuracy: 0.7571\n",
      "epoch 83/100\n",
      "11097/11097 [==============================] - 108s 10ms/step - loss: 0.4723 - accuracy: 0.7946 - val_loss: 0.5525 - val_accuracy: 0.7588\n",
      "epoch 84/100\n",
      "11097/11097 [==============================] - 105s 10ms/step - loss: 0.4710 - accuracy: 0.7961 - val_loss: 0.5522 - val_accuracy: 0.7592\n",
      "epoch 85/100\n",
      "11097/11097 [==============================] - 106s 10ms/step - loss: 0.4715 - accuracy: 0.7955 - val_loss: 0.5527 - val_accuracy: 0.7589\n",
      "epoch 86/100\n",
      "11097/11097 [==============================] - 105s 9ms/step - loss: 0.4718 - accuracy: 0.7951 - val_loss: 0.5563 - val_accuracy: 0.7596\n",
      "epoch 87/100\n",
      "11097/11097 [==============================] - 104s 9ms/step - loss: 0.4711 - accuracy: 0.7958 - val_loss: 0.5543 - val_accuracy: 0.7567\n",
      "epoch 88/100\n",
      "11097/11097 [==============================] - 103s 9ms/step - loss: 0.4714 - accuracy: 0.7961 - val_loss: 0.5551 - val_accuracy: 0.7540\n",
      "epoch 89/100\n",
      "11097/11097 [==============================] - 103s 9ms/step - loss: 0.4699 - accuracy: 0.7963 - val_loss: 0.5617 - val_accuracy: 0.7564\n",
      "epoch 90/100\n",
      "11097/11097 [==============================] - 103s 9ms/step - loss: 0.4711 - accuracy: 0.7953 - val_loss: 0.5506 - val_accuracy: 0.7599\n",
      "epoch 91/100\n",
      "11097/11097 [==============================] - 106s 10ms/step - loss: 0.4692 - accuracy: 0.7966 - val_loss: 0.5539 - val_accuracy: 0.7572\n",
      "epoch 92/100\n",
      "11097/11097 [==============================] - 103s 9ms/step - loss: 0.4703 - accuracy: 0.7962 - val_loss: 0.5516 - val_accuracy: 0.7579\n",
      "epoch 93/100\n",
      "11097/11097 [==============================] - 101s 9ms/step - loss: 0.4689 - accuracy: 0.7964 - val_loss: 0.5523 - val_accuracy: 0.7588\n",
      "epoch 94/100\n",
      "11097/11097 [==============================] - 100s 9ms/step - loss: 0.4689 - accuracy: 0.7969 - val_loss: 0.5489 - val_accuracy: 0.7600\n",
      "epoch 95/100\n",
      "11097/11097 [==============================] - 101s 9ms/step - loss: 0.4676 - accuracy: 0.7975 - val_loss: 0.5471 - val_accuracy: 0.7606\n"
     ]
    },
    {
     "name": "stdout",
     "output_type": "stream",
     "text": [
      "epoch 96/100\n",
      "11097/11097 [==============================] - 105s 9ms/step - loss: 0.4691 - accuracy: 0.7968 - val_loss: 0.5572 - val_accuracy: 0.7571\n",
      "epoch 97/100\n",
      "11097/11097 [==============================] - 136s 12ms/step - loss: 0.4674 - accuracy: 0.7980 - val_loss: 0.5547 - val_accuracy: 0.7603\n",
      "epoch 98/100\n",
      "11097/11097 [==============================] - 133s 12ms/step - loss: 0.4690 - accuracy: 0.7969 - val_loss: 0.5534 - val_accuracy: 0.7589\n",
      "epoch 99/100\n",
      "11097/11097 [==============================] - 135s 12ms/step - loss: 0.4675 - accuracy: 0.7971 - val_loss: 0.5502 - val_accuracy: 0.7575\n",
      "epoch 100/100\n",
      "11097/11097 [==============================] - 134s 12ms/step - loss: 0.4673 - accuracy: 0.7975 - val_loss: 0.5515 - val_accuracy: 0.7601\n"
     ]
    }
   ],
   "source": [
    "epochs = 100\n",
    "for epoch in range(epochs):\n",
    "    print(f\"epoch {epoch+1}/100\")\n",
    "    history = model.fit(X_train_reshaped, Y_train, validation_split=0.1,epochs=1, callbacks=[early_stopping])  \n",
    "    train_accuracies.append(history.history['accuracy'][0])\n",
    "    val_accuracies.append(history.history['val_accuracy'][0])\n",
    "    losses.append(history.history['loss'][0])\n"
   ]
  },
  {
   "cell_type": "code",
   "execution_count": 93,
   "metadata": {
    "colab": {
     "base_uri": "https://localhost:8080/"
    },
    "id": "O-c_muaEvcqw",
    "outputId": "c2933036-9324-4c71-a7f9-4865568ba6aa"
   },
   "outputs": [
    {
     "name": "stdout",
     "output_type": "stream",
     "text": [
      "Test Loss: 0.5530\n",
      "Test Accuracy: 0.7602\n"
     ]
    }
   ],
   "source": [
    "test_loss, test_accuracy = model.evaluate(X_test_reshaped, Y_test, verbose=0)\n",
    "\n",
    "print(f'Test Loss: {test_loss:.4f}')\n",
    "print(f'Test Accuracy: {test_accuracy:.4f}')"
   ]
  },
  {
   "cell_type": "code",
   "execution_count": 103,
   "metadata": {
    "id": "IDnQ4lGl75xV"
   },
   "outputs": [
    {
     "name": "stdout",
     "output_type": "stream",
     "text": [
      "[0.5436463952064514, 0.6223134398460388, 0.6536873579025269, 0.6704909205436707, 0.6833631992340088, 0.690561056137085, 0.6980180740356445, 0.7038219571113586, 0.7086262106895447, 0.7118618488311768, 0.7156382203102112, 0.7196455001831055, 0.7222616672515869, 0.7248609066009521, 0.7267786264419556, 0.7296735644340515, 0.7312477231025696, 0.7346411347389221, 0.735511302947998, 0.7362856864929199, 0.7388032674789429, 0.7401859760284424, 0.7415883541107178, 0.7434808015823364, 0.7453365921974182, 0.7466207146644592, 0.7469586133956909, 0.7494423985481262, 0.7496789693832397, 0.7508729696273804, 0.7520641684532166, 0.753829836845398, 0.7547479271888733, 0.7554237842559814, 0.7562122941017151, 0.7559306621551514, 0.7576766014099121, 0.7588481307029724, 0.7587974071502686, 0.7602645754814148, 0.7615628242492676, 0.7617346048355103, 0.7625315189361572, 0.7633932828903198, 0.7636607885360718, 0.764598548412323, 0.7656179666519165, 0.765215277671814, 0.7660769820213318, 0.7674146294593811, 0.7681777477264404, 0.7684734463691711, 0.7691324353218079, 0.769923746585846, 0.7709797620773315, 0.7714134454727173, 0.7708755731582642, 0.7723371386528015, 0.7731678485870361, 0.7735536694526672, 0.7743477821350098, 0.7743675112724304, 0.7754404544830322, 0.7750518321990967, 0.7759135365486145, 0.7762683629989624, 0.7765978574752808, 0.7762627005577087, 0.7776200771331787, 0.7780086994171143, 0.7779242396354675, 0.7794618010520935, 0.7795603275299072, 0.779588520526886, 0.7796307802200317, 0.7802249193191528, 0.7800616025924683, 0.7806107401847839, 0.7813485860824585, 0.7806811332702637, 0.7813260555267334, 0.782128632068634, 0.7830551266670227, 0.7823482751846313, 0.7829086780548096, 0.7837027907371521, 0.7836098670959473, 0.7836351990699768, 0.7839900255203247, 0.7849475145339966, 0.7845560908317566, 0.7853051424026489, 0.7851333618164062, 0.7854966521263123, 0.7854994535446167, 0.7854741215705872, 0.7862147688865662, 0.7864907383918762, 0.7859556674957275, 0.786685049533844, 0.7863978147506714, 0.7870342135429382, 0.7889857888221741, 0.788273274898529, 0.7886478304862976, 0.7887154221534729, 0.7888365387916565, 0.7905036211013794, 0.7897207736968994, 0.789884090423584, 0.7888393402099609, 0.7901769876480103, 0.7906360030174255, 0.7904529571533203, 0.790137529373169, 0.7912104725837708, 0.7902023196220398, 0.7906134724617004, 0.7914667129516602, 0.7920243144035339, 0.7918581366539001, 0.7918328046798706, 0.7923650741577148, 0.792198896408081, 0.7927424311637878, 0.7925819158554077, 0.7933647632598877, 0.7930859923362732, 0.7932999730110168, 0.7935196161270142, 0.7930606007575989, 0.7941758036613464, 0.7936069369316101, 0.7951107025146484, 0.7945390939712524, 0.7950713038444519, 0.7941955327987671, 0.7945052981376648, 0.7947784066200256, 0.7945953607559204, 0.7960709929466248, 0.7957894206047058, 0.7960653901100159, 0.7963272929191589, 0.7952712178230286, 0.7966483235359192, 0.7961836457252502, 0.7963610887527466, 0.7968510389328003, 0.7974734306335449, 0.7968229055404663, 0.7974621653556824]\n",
      "100\n"
     ]
    }
   ],
   "source": [
    "print(train_accuracies)\n",
    "# print(losses)\n",
    "print(len(train_accuracies))\n",
    "# print(len(losses))"
   ]
  },
  {
   "cell_type": "code",
   "execution_count": 104,
   "metadata": {},
   "outputs": [
    {
     "data": {
      "image/png": "[encoded data removed]",
      "text/plain": [
       "<Figure size 4000x1000 with 1 Axes>"
      ]
     },
     "metadata": {},
     "output_type": "display_data"
    }
   ],
   "source": [
    "import matplotlib.pyplot as plt\n",
    "epochs_list = [i for i in range(1,101)]\n",
    "plt.figure(figsize=(40,10))\n",
    "plt.plot(epochs_list, train_accuracies, marker='o', linestyle='-')\n",
    "plt.xlabel('Epochs')\n",
    "plt.ylabel('Training Accuracy')\n",
    "plt.title('Training Accuracy vs. Epochs')\n",
    "plt.grid(True)\n",
    "plt.xticks(range(1, 101))\n",
    "\n",
    "plt.show()"
   ]
  },
  {
   "cell_type": "code",
   "execution_count": 148,
   "metadata": {},
   "outputs": [
    {
     "data": {
      "image/png": "[encoded data removed]",
      "text/plain": [
       "<Figure size 4000x1000 with 1 Axes>"
      ]
     },
     "metadata": {},
     "output_type": "display_data"
    }
   ],
   "source": [
    "\n",
    "\n",
    "import matplotlib.pyplot as plt\n",
    "epochs_list = [i for i in range(1,101)]\n",
    "plt.figure(figsize=(40,10))\n",
    "plt.plot(epochs_list, losses, marker='o', linestyle='-')\n",
    "plt.xlabel('Epochs')\n",
    "plt.ylabel('Loss value')\n",
    "plt.title('Loss value vs. Epochs')\n",
    "plt.grid(True)\n",
    "plt.xticks(range(1, 101))\n",
    "\n",
    "plt.show()"
   ]
  },
  {
   "cell_type": "code",
   "execution_count": 105,
   "metadata": {},
   "outputs": [
    {
     "name": "stdout",
     "output_type": "stream",
     "text": [
      "76.52511394023895\n"
     ]
    }
   ],
   "source": [
    "print(sum(train_accuracies))"
   ]
  },
  {
   "cell_type": "code",
   "execution_count": 106,
   "metadata": {},
   "outputs": [
    {
     "name": "stdout",
     "output_type": "stream",
     "text": [
      "0.7974734306335449\n"
     ]
    }
   ],
   "source": [
    "print(max(train_accuracies))"
   ]
  },
  {
   "cell_type": "code",
   "execution_count": 107,
   "metadata": {},
   "outputs": [
    {
     "data": {
      "text/plain": [
       "(98640,)"
      ]
     },
     "execution_count": 107,
     "metadata": {},
     "output_type": "execute_result"
    }
   ],
   "source": [
    "y_test_data = np.array(Y_test)\n",
    "\n",
    "y_test_data.shape"
   ]
  },
  {
   "cell_type": "code",
   "execution_count": 137,
   "metadata": {},
   "outputs": [
    {
     "name": "stdout",
     "output_type": "stream",
     "text": [
      "3083/3083 [==============================] - 14s 4ms/step\n"
     ]
    }
   ],
   "source": [
    "\n",
    "test_pred = model.predict(X_test_reshaped)\n",
    "predlabels = np.argmax(test_pred,axis=1)"
   ]
  },
  {
   "cell_type": "code",
   "execution_count": 114,
   "metadata": {},
   "outputs": [
    {
     "name": "stdout",
     "output_type": "stream",
     "text": [
      "(1, 20, 1)\n",
      "1/1 [==============================] - 0s 44ms/step\n",
      "True Label: 0\n",
      "Predicted Label: 0\n",
      "Predicted Probabilities: [[0.86974674 0.05255932 0.07769394]]\n"
     ]
    }
   ],
   "source": [
    "from sklearn.metrics import accuracy_score\n",
    "\n",
    "input_data = np.array(X_test_reshaped[2300]).reshape(1,X_test_reshaped[0].shape[0], X_test_reshaped[0].shape[1])\n",
    "\n",
    "print(input_data.shape)\n",
    "pred = model.predict(input_data)\n",
    "y_pred_labels = np.argmax(pred, axis=1)\n",
    "\n",
    "print(\"True Label:\", Y_test.iloc[0])  \n",
    "print(\"Predicted Label:\", y_pred_labels[0])\n",
    "print(\"Predicted Probabilities:\", pred)\n",
    "\n"
   ]
  },
  {
   "cell_type": "markdown",
   "metadata": {},
   "source": [
    "## "
   ]
  },
  {
   "cell_type": "code",
   "execution_count": 139,
   "metadata": {},
   "outputs": [
    {
     "name": "stdout",
     "output_type": "stream",
     "text": [
      "(98640,)\n",
      "(98640, 3)\n",
      "Confusion matrix:  \n",
      "[[43610  2583  3283]\n",
      " [ 7125 15320  2212]\n",
      " [ 6931  1522 16054]]\n"
     ]
    },
    {
     "name": "stderr",
     "output_type": "stream",
     "text": [
      "C:\\Users\\papir\\AppData\\Local\\Programs\\Python\\Python310\\lib\\site-packages\\sklearn\\utils\\validation.py:605: FutureWarning: is_sparse is deprecated and will be removed in a future version. Check `isinstance(dtype, pd.SparseDtype)` instead.\n",
      "  if is_sparse(pd_dtype):\n",
      "C:\\Users\\papir\\AppData\\Local\\Programs\\Python\\Python310\\lib\\site-packages\\sklearn\\utils\\validation.py:614: FutureWarning: is_sparse is deprecated and will be removed in a future version. Check `isinstance(dtype, pd.SparseDtype)` instead.\n",
      "  if is_sparse(pd_dtype) or not is_extension_array_dtype(pd_dtype):\n",
      "C:\\Users\\papir\\AppData\\Local\\Programs\\Python\\Python310\\lib\\site-packages\\sklearn\\utils\\validation.py:605: FutureWarning: is_sparse is deprecated and will be removed in a future version. Check `isinstance(dtype, pd.SparseDtype)` instead.\n",
      "  if is_sparse(pd_dtype):\n",
      "C:\\Users\\papir\\AppData\\Local\\Programs\\Python\\Python310\\lib\\site-packages\\sklearn\\utils\\validation.py:614: FutureWarning: is_sparse is deprecated and will be removed in a future version. Check `isinstance(dtype, pd.SparseDtype)` instead.\n",
      "  if is_sparse(pd_dtype) or not is_extension_array_dtype(pd_dtype):\n",
      "C:\\Users\\papir\\AppData\\Local\\Programs\\Python\\Python310\\lib\\site-packages\\sklearn\\utils\\validation.py:605: FutureWarning: is_sparse is deprecated and will be removed in a future version. Check `isinstance(dtype, pd.SparseDtype)` instead.\n",
      "  if is_sparse(pd_dtype):\n",
      "C:\\Users\\papir\\AppData\\Local\\Programs\\Python\\Python310\\lib\\site-packages\\sklearn\\utils\\validation.py:614: FutureWarning: is_sparse is deprecated and will be removed in a future version. Check `isinstance(dtype, pd.SparseDtype)` instead.\n",
      "  if is_sparse(pd_dtype) or not is_extension_array_dtype(pd_dtype):\n"
     ]
    }
   ],
   "source": [
    "print(Y_test.shape)\n",
    "print(test_pred.shape)\n",
    "conf_matrix = confusion_matrix(Y_test,predlabels)\n",
    "print(\"Confusion matrix:  \")\n",
    "print(conf_matrix)"
   ]
  },
  {
   "cell_type": "code",
   "execution_count": 143,
   "metadata": {},
   "outputs": [
    {
     "name": "stderr",
     "output_type": "stream",
     "text": [
      "C:\\Users\\papir\\AppData\\Local\\Programs\\Python\\Python310\\lib\\site-packages\\sklearn\\utils\\validation.py:605: FutureWarning: is_sparse is deprecated and will be removed in a future version. Check `isinstance(dtype, pd.SparseDtype)` instead.\n",
      "  if is_sparse(pd_dtype):\n",
      "C:\\Users\\papir\\AppData\\Local\\Programs\\Python\\Python310\\lib\\site-packages\\sklearn\\utils\\validation.py:614: FutureWarning: is_sparse is deprecated and will be removed in a future version. Check `isinstance(dtype, pd.SparseDtype)` instead.\n",
      "  if is_sparse(pd_dtype) or not is_extension_array_dtype(pd_dtype):\n",
      "C:\\Users\\papir\\AppData\\Local\\Programs\\Python\\Python310\\lib\\site-packages\\sklearn\\utils\\validation.py:605: FutureWarning: is_sparse is deprecated and will be removed in a future version. Check `isinstance(dtype, pd.SparseDtype)` instead.\n",
      "  if is_sparse(pd_dtype):\n",
      "C:\\Users\\papir\\AppData\\Local\\Programs\\Python\\Python310\\lib\\site-packages\\sklearn\\utils\\validation.py:614: FutureWarning: is_sparse is deprecated and will be removed in a future version. Check `isinstance(dtype, pd.SparseDtype)` instead.\n",
      "  if is_sparse(pd_dtype) or not is_extension_array_dtype(pd_dtype):\n",
      "C:\\Users\\papir\\AppData\\Local\\Programs\\Python\\Python310\\lib\\site-packages\\sklearn\\utils\\validation.py:605: FutureWarning: is_sparse is deprecated and will be removed in a future version. Check `isinstance(dtype, pd.SparseDtype)` instead.\n",
      "  if is_sparse(pd_dtype):\n",
      "C:\\Users\\papir\\AppData\\Local\\Programs\\Python\\Python310\\lib\\site-packages\\sklearn\\utils\\validation.py:614: FutureWarning: is_sparse is deprecated and will be removed in a future version. Check `isinstance(dtype, pd.SparseDtype)` instead.\n",
      "  if is_sparse(pd_dtype) or not is_extension_array_dtype(pd_dtype):\n"
     ]
    },
    {
     "name": "stdout",
     "output_type": "stream",
     "text": [
      "              precision    recall  f1-score   support\n",
      "\n",
      "           0       0.76      0.88      0.81     49476\n",
      "           1       0.79      0.62      0.70     24657\n",
      "           2       0.74      0.66      0.70     24507\n",
      "\n",
      "    accuracy                           0.76     98640\n",
      "   macro avg       0.76      0.72      0.74     98640\n",
      "weighted avg       0.76      0.76      0.76     98640\n",
      "\n"
     ]
    }
   ],
   "source": [
    "class_report = classification_report(Y_test, predlabels)\n",
    "print(class_report)"
   ]
  },
  {
   "cell_type": "code",
   "execution_count": null,
   "metadata": {},
   "outputs": [],
   "source": []
  }
 ],
 "metadata": {
  "accelerator": "GPU",
  "colab": {
   "gpuType": "T4",
   "provenance": []
  },
  "kernelspec": {
   "display_name": "Python 3 (ipykernel)",
   "language": "python",
   "name": "python3"
  },
  "language_info": {
   "codemirror_mode": {
    "name": "ipython",
    "version": 3
   },
   "file_extension": ".py",
   "mimetype": "text/x-python",
   "name": "python",
   "nbconvert_exporter": "python",
   "pygments_lexer": "ipython3",
   "version": "3.10.11"
  }
 },
 "nbformat": 4,
 "nbformat_minor": 4
}
