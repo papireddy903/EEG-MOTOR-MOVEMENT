{
 "cells": [
  {
   "cell_type": "code",
   "execution_count": 1,
   "metadata": {
    "id": "XCNv5MBbbFWs"
   },
   "outputs": [],
   "source": [
    "from tensorflow.keras.datasets import mnist\n",
    "from tensorflow.keras.models import Sequential\n",
    "from tensorflow.keras.layers import Conv1D, MaxPooling1D, Flatten, Dense\n",
    "import pandas as pd\n",
    "from sklearn.preprocessing import StandardScaler\n",
    "import numpy as np\n",
    "import matplotlib.pyplot as plt"
   ]
  },
  {
   "cell_type": "code",
   "execution_count": 2,
   "metadata": {
    "id": "j8RTaadkkrLL"
   },
   "outputs": [],
   "source": [
    "dataset = pd.read_csv(\"./R03_25\")\n"
   ]
  },
  {
   "cell_type": "code",
   "execution_count": 3,
   "metadata": {
    "id": "PpeohlXGzDaG"
   },
   "outputs": [],
   "source": [
    "dataset.drop(columns={\"Unnamed: 0\"}, inplace=True)"
   ]
  },
  {
   "cell_type": "code",
   "execution_count": 4,
   "metadata": {
    "colab": {
     "base_uri": "https://localhost:8080/",
     "height": 255
    },
    "id": "vgdSc6tPzA9B",
    "outputId": "739ce03d-1a4d-4782-a7cd-bb6d44c010ca"
   },
   "outputs": [
    {
     "data": {
      "text/html": [
       "<div>\n",
       "<style scoped>\n",
       "    .dataframe tbody tr th:only-of-type {\n",
       "        vertical-align: middle;\n",
       "    }\n",
       "\n",
       "    .dataframe tbody tr th {\n",
       "        vertical-align: top;\n",
       "    }\n",
       "\n",
       "    .dataframe thead th {\n",
       "        text-align: right;\n",
       "    }\n",
       "</style>\n",
       "<table border=\"1\" class=\"dataframe\">\n",
       "  <thead>\n",
       "    <tr style=\"text-align: right;\">\n",
       "      <th></th>\n",
       "      <th>Fc5.</th>\n",
       "      <th>Fc3.</th>\n",
       "      <th>Fc1.</th>\n",
       "      <th>Fcz.</th>\n",
       "      <th>Fc2.</th>\n",
       "      <th>Fc4.</th>\n",
       "      <th>Fc6.</th>\n",
       "      <th>C5..</th>\n",
       "      <th>C3..</th>\n",
       "      <th>C1..</th>\n",
       "      <th>...</th>\n",
       "      <th>Po7.</th>\n",
       "      <th>Po3.</th>\n",
       "      <th>Poz.</th>\n",
       "      <th>Po4.</th>\n",
       "      <th>Po8.</th>\n",
       "      <th>O1..</th>\n",
       "      <th>Oz..</th>\n",
       "      <th>O2..</th>\n",
       "      <th>Iz..</th>\n",
       "      <th>label</th>\n",
       "    </tr>\n",
       "  </thead>\n",
       "  <tbody>\n",
       "    <tr>\n",
       "      <th>0</th>\n",
       "      <td>-57.0</td>\n",
       "      <td>-13.0</td>\n",
       "      <td>-15.0</td>\n",
       "      <td>-12.0</td>\n",
       "      <td>-13.0</td>\n",
       "      <td>-8.0</td>\n",
       "      <td>-40.0</td>\n",
       "      <td>-54.0</td>\n",
       "      <td>-12.0</td>\n",
       "      <td>-14.0</td>\n",
       "      <td>...</td>\n",
       "      <td>-38.0</td>\n",
       "      <td>-42.0</td>\n",
       "      <td>-68.0</td>\n",
       "      <td>-76.0</td>\n",
       "      <td>-103.0</td>\n",
       "      <td>-51.0</td>\n",
       "      <td>-56.0</td>\n",
       "      <td>-124.0</td>\n",
       "      <td>-28.0</td>\n",
       "      <td>0</td>\n",
       "    </tr>\n",
       "    <tr>\n",
       "      <th>1</th>\n",
       "      <td>-49.0</td>\n",
       "      <td>-11.0</td>\n",
       "      <td>-10.0</td>\n",
       "      <td>-12.0</td>\n",
       "      <td>-19.0</td>\n",
       "      <td>-24.0</td>\n",
       "      <td>-58.0</td>\n",
       "      <td>-51.0</td>\n",
       "      <td>-19.0</td>\n",
       "      <td>-23.0</td>\n",
       "      <td>...</td>\n",
       "      <td>-55.0</td>\n",
       "      <td>-63.0</td>\n",
       "      <td>-82.0</td>\n",
       "      <td>-87.0</td>\n",
       "      <td>-99.0</td>\n",
       "      <td>-59.0</td>\n",
       "      <td>-70.0</td>\n",
       "      <td>-149.0</td>\n",
       "      <td>-40.0</td>\n",
       "      <td>0</td>\n",
       "    </tr>\n",
       "    <tr>\n",
       "      <th>2</th>\n",
       "      <td>-55.0</td>\n",
       "      <td>-17.0</td>\n",
       "      <td>-16.0</td>\n",
       "      <td>-19.0</td>\n",
       "      <td>-24.0</td>\n",
       "      <td>-29.0</td>\n",
       "      <td>-66.0</td>\n",
       "      <td>-61.0</td>\n",
       "      <td>-30.0</td>\n",
       "      <td>-36.0</td>\n",
       "      <td>...</td>\n",
       "      <td>-63.0</td>\n",
       "      <td>-72.0</td>\n",
       "      <td>-91.0</td>\n",
       "      <td>-92.0</td>\n",
       "      <td>-91.0</td>\n",
       "      <td>-67.0</td>\n",
       "      <td>-77.0</td>\n",
       "      <td>-153.0</td>\n",
       "      <td>-37.0</td>\n",
       "      <td>0</td>\n",
       "    </tr>\n",
       "    <tr>\n",
       "      <th>3</th>\n",
       "      <td>-73.0</td>\n",
       "      <td>-42.0</td>\n",
       "      <td>-40.0</td>\n",
       "      <td>-37.0</td>\n",
       "      <td>-37.0</td>\n",
       "      <td>-40.0</td>\n",
       "      <td>-71.0</td>\n",
       "      <td>-78.0</td>\n",
       "      <td>-53.0</td>\n",
       "      <td>-53.0</td>\n",
       "      <td>...</td>\n",
       "      <td>-52.0</td>\n",
       "      <td>-66.0</td>\n",
       "      <td>-100.0</td>\n",
       "      <td>-105.0</td>\n",
       "      <td>-105.0</td>\n",
       "      <td>-67.0</td>\n",
       "      <td>-72.0</td>\n",
       "      <td>-148.0</td>\n",
       "      <td>-26.0</td>\n",
       "      <td>0</td>\n",
       "    </tr>\n",
       "    <tr>\n",
       "      <th>4</th>\n",
       "      <td>-87.0</td>\n",
       "      <td>-53.0</td>\n",
       "      <td>-52.0</td>\n",
       "      <td>-51.0</td>\n",
       "      <td>-45.0</td>\n",
       "      <td>-43.0</td>\n",
       "      <td>-71.0</td>\n",
       "      <td>-87.0</td>\n",
       "      <td>-65.0</td>\n",
       "      <td>-64.0</td>\n",
       "      <td>...</td>\n",
       "      <td>-82.0</td>\n",
       "      <td>-90.0</td>\n",
       "      <td>-117.0</td>\n",
       "      <td>-119.0</td>\n",
       "      <td>-118.0</td>\n",
       "      <td>-75.0</td>\n",
       "      <td>-82.0</td>\n",
       "      <td>-161.0</td>\n",
       "      <td>-35.0</td>\n",
       "      <td>0</td>\n",
       "    </tr>\n",
       "  </tbody>\n",
       "</table>\n",
       "<p>5 rows × 65 columns</p>\n",
       "</div>"
      ],
      "text/plain": [
       "   Fc5.  Fc3.  Fc1.  Fcz.  Fc2.  Fc4.  Fc6.  C5..  C3..  C1..  ...  Po7.  \\\n",
       "0 -57.0 -13.0 -15.0 -12.0 -13.0  -8.0 -40.0 -54.0 -12.0 -14.0  ... -38.0   \n",
       "1 -49.0 -11.0 -10.0 -12.0 -19.0 -24.0 -58.0 -51.0 -19.0 -23.0  ... -55.0   \n",
       "2 -55.0 -17.0 -16.0 -19.0 -24.0 -29.0 -66.0 -61.0 -30.0 -36.0  ... -63.0   \n",
       "3 -73.0 -42.0 -40.0 -37.0 -37.0 -40.0 -71.0 -78.0 -53.0 -53.0  ... -52.0   \n",
       "4 -87.0 -53.0 -52.0 -51.0 -45.0 -43.0 -71.0 -87.0 -65.0 -64.0  ... -82.0   \n",
       "\n",
       "   Po3.   Poz.   Po4.   Po8.  O1..  Oz..   O2..  Iz..  label  \n",
       "0 -42.0  -68.0  -76.0 -103.0 -51.0 -56.0 -124.0 -28.0      0  \n",
       "1 -63.0  -82.0  -87.0  -99.0 -59.0 -70.0 -149.0 -40.0      0  \n",
       "2 -72.0  -91.0  -92.0  -91.0 -67.0 -77.0 -153.0 -37.0      0  \n",
       "3 -66.0 -100.0 -105.0 -105.0 -67.0 -72.0 -148.0 -26.0      0  \n",
       "4 -90.0 -117.0 -119.0 -118.0 -75.0 -82.0 -161.0 -35.0      0  \n",
       "\n",
       "[5 rows x 65 columns]"
      ]
     },
     "execution_count": 4,
     "metadata": {},
     "output_type": "execute_result"
    }
   ],
   "source": [
    "dataset.head()"
   ]
  },
  {
   "cell_type": "code",
   "execution_count": 7,
   "metadata": {},
   "outputs": [],
   "source": [
    "data = dataset.iloc[:, :16]\n",
    "data['label'] = dataset['label']"
   ]
  },
  {
   "cell_type": "code",
   "execution_count": 8,
   "metadata": {},
   "outputs": [
    {
     "data": {
      "text/html": [
       "<div>\n",
       "<style scoped>\n",
       "    .dataframe tbody tr th:only-of-type {\n",
       "        vertical-align: middle;\n",
       "    }\n",
       "\n",
       "    .dataframe tbody tr th {\n",
       "        vertical-align: top;\n",
       "    }\n",
       "\n",
       "    .dataframe thead th {\n",
       "        text-align: right;\n",
       "    }\n",
       "</style>\n",
       "<table border=\"1\" class=\"dataframe\">\n",
       "  <thead>\n",
       "    <tr style=\"text-align: right;\">\n",
       "      <th></th>\n",
       "      <th>Fc5.</th>\n",
       "      <th>Fc3.</th>\n",
       "      <th>Fc1.</th>\n",
       "      <th>Fcz.</th>\n",
       "      <th>Fc2.</th>\n",
       "      <th>Fc4.</th>\n",
       "      <th>Fc6.</th>\n",
       "      <th>C5..</th>\n",
       "      <th>C3..</th>\n",
       "      <th>C1..</th>\n",
       "      <th>Cz..</th>\n",
       "      <th>C2..</th>\n",
       "      <th>C4..</th>\n",
       "      <th>C6..</th>\n",
       "      <th>Cp5.</th>\n",
       "      <th>Cp3.</th>\n",
       "      <th>label</th>\n",
       "    </tr>\n",
       "  </thead>\n",
       "  <tbody>\n",
       "    <tr>\n",
       "      <th>0</th>\n",
       "      <td>-57.0</td>\n",
       "      <td>-13.0</td>\n",
       "      <td>-15.0</td>\n",
       "      <td>-12.0</td>\n",
       "      <td>-13.0</td>\n",
       "      <td>-8.0</td>\n",
       "      <td>-40.0</td>\n",
       "      <td>-54.0</td>\n",
       "      <td>-12.0</td>\n",
       "      <td>-14.0</td>\n",
       "      <td>-29.0</td>\n",
       "      <td>-15.0</td>\n",
       "      <td>-15.0</td>\n",
       "      <td>-25.0</td>\n",
       "      <td>-10.0</td>\n",
       "      <td>-14.0</td>\n",
       "      <td>0</td>\n",
       "    </tr>\n",
       "    <tr>\n",
       "      <th>1</th>\n",
       "      <td>-49.0</td>\n",
       "      <td>-11.0</td>\n",
       "      <td>-10.0</td>\n",
       "      <td>-12.0</td>\n",
       "      <td>-19.0</td>\n",
       "      <td>-24.0</td>\n",
       "      <td>-58.0</td>\n",
       "      <td>-51.0</td>\n",
       "      <td>-19.0</td>\n",
       "      <td>-23.0</td>\n",
       "      <td>-41.0</td>\n",
       "      <td>-31.0</td>\n",
       "      <td>-34.0</td>\n",
       "      <td>-46.0</td>\n",
       "      <td>-23.0</td>\n",
       "      <td>-30.0</td>\n",
       "      <td>0</td>\n",
       "    </tr>\n",
       "    <tr>\n",
       "      <th>2</th>\n",
       "      <td>-55.0</td>\n",
       "      <td>-17.0</td>\n",
       "      <td>-16.0</td>\n",
       "      <td>-19.0</td>\n",
       "      <td>-24.0</td>\n",
       "      <td>-29.0</td>\n",
       "      <td>-66.0</td>\n",
       "      <td>-61.0</td>\n",
       "      <td>-30.0</td>\n",
       "      <td>-36.0</td>\n",
       "      <td>-53.0</td>\n",
       "      <td>-41.0</td>\n",
       "      <td>-48.0</td>\n",
       "      <td>-56.0</td>\n",
       "      <td>-50.0</td>\n",
       "      <td>-47.0</td>\n",
       "      <td>0</td>\n",
       "    </tr>\n",
       "    <tr>\n",
       "      <th>3</th>\n",
       "      <td>-73.0</td>\n",
       "      <td>-42.0</td>\n",
       "      <td>-40.0</td>\n",
       "      <td>-37.0</td>\n",
       "      <td>-37.0</td>\n",
       "      <td>-40.0</td>\n",
       "      <td>-71.0</td>\n",
       "      <td>-78.0</td>\n",
       "      <td>-53.0</td>\n",
       "      <td>-53.0</td>\n",
       "      <td>-65.0</td>\n",
       "      <td>-55.0</td>\n",
       "      <td>-58.0</td>\n",
       "      <td>-67.0</td>\n",
       "      <td>-50.0</td>\n",
       "      <td>-60.0</td>\n",
       "      <td>0</td>\n",
       "    </tr>\n",
       "    <tr>\n",
       "      <th>4</th>\n",
       "      <td>-87.0</td>\n",
       "      <td>-53.0</td>\n",
       "      <td>-52.0</td>\n",
       "      <td>-51.0</td>\n",
       "      <td>-45.0</td>\n",
       "      <td>-43.0</td>\n",
       "      <td>-71.0</td>\n",
       "      <td>-87.0</td>\n",
       "      <td>-65.0</td>\n",
       "      <td>-64.0</td>\n",
       "      <td>-73.0</td>\n",
       "      <td>-66.0</td>\n",
       "      <td>-64.0</td>\n",
       "      <td>-70.0</td>\n",
       "      <td>-48.0</td>\n",
       "      <td>-71.0</td>\n",
       "      <td>0</td>\n",
       "    </tr>\n",
       "  </tbody>\n",
       "</table>\n",
       "</div>"
      ],
      "text/plain": [
       "   Fc5.  Fc3.  Fc1.  Fcz.  Fc2.  Fc4.  Fc6.  C5..  C3..  C1..  Cz..  C2..  \\\n",
       "0 -57.0 -13.0 -15.0 -12.0 -13.0  -8.0 -40.0 -54.0 -12.0 -14.0 -29.0 -15.0   \n",
       "1 -49.0 -11.0 -10.0 -12.0 -19.0 -24.0 -58.0 -51.0 -19.0 -23.0 -41.0 -31.0   \n",
       "2 -55.0 -17.0 -16.0 -19.0 -24.0 -29.0 -66.0 -61.0 -30.0 -36.0 -53.0 -41.0   \n",
       "3 -73.0 -42.0 -40.0 -37.0 -37.0 -40.0 -71.0 -78.0 -53.0 -53.0 -65.0 -55.0   \n",
       "4 -87.0 -53.0 -52.0 -51.0 -45.0 -43.0 -71.0 -87.0 -65.0 -64.0 -73.0 -66.0   \n",
       "\n",
       "   C4..  C6..  Cp5.  Cp3.  label  \n",
       "0 -15.0 -25.0 -10.0 -14.0      0  \n",
       "1 -34.0 -46.0 -23.0 -30.0      0  \n",
       "2 -48.0 -56.0 -50.0 -47.0      0  \n",
       "3 -58.0 -67.0 -50.0 -60.0      0  \n",
       "4 -64.0 -70.0 -48.0 -71.0      0  "
      ]
     },
     "execution_count": 8,
     "metadata": {},
     "output_type": "execute_result"
    }
   ],
   "source": [
    "data.head()"
   ]
  },
  {
   "cell_type": "code",
   "execution_count": 9,
   "metadata": {
    "id": "VvwA8JFQuHWA"
   },
   "outputs": [],
   "source": [
    "from sklearn.model_selection import train_test_split\n",
    "X = data.drop(columns={\"label\"})\n",
    "Y = data['label']\n",
    "X_train,X_test,Y_train,Y_test = train_test_split(X,Y,test_size=0.2,random_state=42)\n",
    "X_train = np.array(X_train)\n",
    "X_test = np.array(X_test)\n",
    "scaler = StandardScaler()\n",
    "X_train_scaled =  scaler.fit_transform(X_train)\n",
    "X_test_scaled = scaler.transform(X_test)\n",
    "X_train_reshaped = X_train_scaled.reshape(X_train.shape[0],X_train.shape[1],1)\n",
    "X_test_reshaped = X_test_scaled.reshape(X_test.shape[0],X_test.shape[1],1)\n",
    "\n",
    "\n"
   ]
  },
  {
   "cell_type": "code",
   "execution_count": 10,
   "metadata": {},
   "outputs": [],
   "source": [
    "train_accuracies = []"
   ]
  },
  {
   "cell_type": "code",
   "execution_count": 11,
   "metadata": {
    "id": "jYyrljp0u1iv"
   },
   "outputs": [
    {
     "name": "stdout",
     "output_type": "stream",
     "text": [
      "WARNING:tensorflow:From /usr/local/lib/python3.6/dist-packages/tensorflow_core/python/ops/resource_variable_ops.py:1630: calling BaseResourceVariable.__init__ (from tensorflow.python.ops.resource_variable_ops) with constraint is deprecated and will be removed in a future version.\n",
      "Instructions for updating:\n",
      "If using Keras pass *_constraint arguments to layers.\n"
     ]
    }
   ],
   "source": [
    "model = Sequential()\n",
    "model.add(Conv1D(32, kernel_size=3, activation='relu', input_shape=(X_train_reshaped.shape[1], 1)))\n",
    "model.add(MaxPooling1D(pool_size=2, padding='same'))\n",
    "model.add(Conv1D(64, kernel_size=2, activation='relu'))\n",
    "model.add(MaxPooling1D(pool_size=2, padding='same'))\n",
    "model.add(Conv1D(128, kernel_size=1, activation='relu'))\n",
    "model.add(MaxPooling1D(pool_size=2, padding='same'))\n",
    "model.add(Conv1D(128, kernel_size=1, activation='relu'))\n",
    "model.add(MaxPooling1D(pool_size=2, padding='same'))\n",
    "model.add(Flatten())\n",
    "model.add(Dense(128, activation='relu'))\n",
    "model.add(Dense(3, activation='softmax'))\n"
   ]
  },
  {
   "cell_type": "code",
   "execution_count": 12,
   "metadata": {
    "id": "NwV4a5n7vApk"
   },
   "outputs": [],
   "source": [
    "model.compile(loss='sparse_categorical_crossentropy', optimizer='adam', metrics=['accuracy'])"
   ]
  },
  {
   "cell_type": "code",
   "execution_count": null,
   "metadata": {
    "colab": {
     "base_uri": "https://localhost:8080/"
    },
    "id": "uE79f8lQvYqB",
    "outputId": "1824f448-88b7-47b3-8b40-982f1b2276f4",
    "scrolled": true
   },
   "outputs": [
    {
     "name": "stdout",
     "output_type": "stream",
     "text": [
      "epoch 1/100\n",
      "Train on 394560 samples\n",
      "394560/394560 [==============================] - 49s 125us/sample - loss: 1.0036 - acc: 0.5175\n",
      "epoch 2/100\n",
      "Train on 394560 samples\n",
      "394560/394560 [==============================] - 45s 114us/sample - loss: 0.9318 - acc: 0.5597\n",
      "epoch 3/100\n",
      "Train on 394560 samples\n",
      "394560/394560 [==============================] - 46s 116us/sample - loss: 0.8882 - acc: 0.5823\n",
      "epoch 4/100\n",
      "Train on 394560 samples\n",
      "394560/394560 [==============================] - 46s 116us/sample - loss: 0.8614 - acc: 0.5960\n",
      "epoch 5/100\n",
      "Train on 394560 samples\n",
      "394560/394560 [==============================] - 45s 114us/sample - loss: 0.8418 - acc: 0.6063\n",
      "epoch 6/100\n",
      "Train on 394560 samples\n",
      "394560/394560 [==============================] - 46s 115us/sample - loss: 0.8254 - acc: 0.6144\n",
      "epoch 7/100\n",
      "Train on 394560 samples\n",
      "394560/394560 [==============================] - 46s 118us/sample - loss: 0.8128 - acc: 0.6205\n",
      "epoch 8/100\n",
      "Train on 394560 samples\n",
      " 53760/394560 [===>..........................] - ETA: 39s - loss: 0.8033 - acc: 0.6239"
     ]
    }
   ],
   "source": [
    "epochs = 100\n",
    "for epoch in range(epochs):\n",
    "    print(f\"epoch {epoch+1}/100\")\n",
    "    history = model.fit(X_train_reshaped, Y_train, epochs=1)  \n",
    "    train_accuracies.append(history.history['acc'][0])\n",
    "\n"
   ]
  },
  {
   "cell_type": "code",
   "execution_count": null,
   "metadata": {
    "colab": {
     "base_uri": "https://localhost:8080/"
    },
    "id": "O-c_muaEvcqw",
    "outputId": "c2933036-9324-4c71-a7f9-4865568ba6aa"
   },
   "outputs": [],
   "source": [
    "test_loss, test_accuracy = model.evaluate(X_test_reshaped, Y_test, verbose=0)\n",
    "\n",
    "print(f'Test Loss: {test_loss:.4f}')\n",
    "print(f'Test Accuracy: {test_accuracy:.4f}')"
   ]
  },
  {
   "cell_type": "code",
   "execution_count": null,
   "metadata": {
    "id": "IDnQ4lGl75xV"
   },
   "outputs": [],
   "source": [
    "print(train_accuracies)"
   ]
  },
  {
   "cell_type": "code",
   "execution_count": null,
   "metadata": {},
   "outputs": [],
   "source": [
    "epochs_list = [i for i in range(1,epochs+1)]\n",
    "plt.figure(figsize=(40,10))\n",
    "plt.plot(epochs_list, train_accuracies, marker='o', linestyle='-')\n",
    "plt.xlabel('Epochs')\n",
    "plt.ylabel('Training Accuracy')\n",
    "plt.title('Training Accuracy vs. Epochs')\n",
    "plt.grid(True)\n",
    "plt.xticks(range(1, 101))\n",
    "\n",
    "plt.show()"
   ]
  },
  {
   "cell_type": "code",
   "execution_count": null,
   "metadata": {},
   "outputs": [],
   "source": []
  }
 ],
 "metadata": {
  "accelerator": "GPU",
  "colab": {
   "gpuType": "T4",
   "provenance": []
  },
  "kernelspec": {
   "display_name": "Python 3 (ipykernel)",
   "language": "python",
   "name": "python3"
  },
  "language_info": {
   "codemirror_mode": {
    "name": "ipython",
    "version": 3
   },
   "file_extension": ".py",
   "mimetype": "text/x-python",
   "name": "python",
   "nbconvert_exporter": "python",
   "pygments_lexer": "ipython3",
   "version": "3.10.11"
  }
 },
 "nbformat": 4,
 "nbformat_minor": 4
}
