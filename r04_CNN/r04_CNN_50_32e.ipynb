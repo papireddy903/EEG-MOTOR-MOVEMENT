{
 "cells": [
  {
   "cell_type": "code",
   "execution_count": 1,
   "metadata": {
    "id": "XCNv5MBbbFWs"
   },
   "outputs": [],
   "source": [
    "from tensorflow.keras.datasets import mnist\n",
    "from tensorflow.keras.models import Sequential\n",
    "from tensorflow.keras.layers import Conv1D, MaxPooling1D, Flatten, Dense\n",
    "import pandas as pd\n",
    "from sklearn.preprocessing import StandardScaler\n",
    "import numpy as np\n",
    "import matplotlib.pyplot as plt"
   ]
  },
  {
   "cell_type": "code",
   "execution_count": 2,
   "metadata": {
    "id": "j8RTaadkkrLL"
   },
   "outputs": [],
   "source": [
    "dataset = pd.read_csv(\"./R04_50\")\n"
   ]
  },
  {
   "cell_type": "code",
   "execution_count": 3,
   "metadata": {
    "id": "PpeohlXGzDaG"
   },
   "outputs": [],
   "source": [
    "dataset.drop(columns={\"Unnamed: 0\"}, inplace=True)"
   ]
  },
  {
   "cell_type": "code",
   "execution_count": 4,
   "metadata": {
    "colab": {
     "base_uri": "https://localhost:8080/",
     "height": 255
    },
    "id": "vgdSc6tPzA9B",
    "outputId": "739ce03d-1a4d-4782-a7cd-bb6d44c010ca"
   },
   "outputs": [
    {
     "data": {
      "text/html": [
       "<div>\n",
       "<style scoped>\n",
       "    .dataframe tbody tr th:only-of-type {\n",
       "        vertical-align: middle;\n",
       "    }\n",
       "\n",
       "    .dataframe tbody tr th {\n",
       "        vertical-align: top;\n",
       "    }\n",
       "\n",
       "    .dataframe thead th {\n",
       "        text-align: right;\n",
       "    }\n",
       "</style>\n",
       "<table border=\"1\" class=\"dataframe\">\n",
       "  <thead>\n",
       "    <tr style=\"text-align: right;\">\n",
       "      <th></th>\n",
       "      <th>Fc5.</th>\n",
       "      <th>Fc3.</th>\n",
       "      <th>Fc1.</th>\n",
       "      <th>Fcz.</th>\n",
       "      <th>Fc2.</th>\n",
       "      <th>Fc4.</th>\n",
       "      <th>Fc6.</th>\n",
       "      <th>C5..</th>\n",
       "      <th>C3..</th>\n",
       "      <th>C1..</th>\n",
       "      <th>...</th>\n",
       "      <th>Po7.</th>\n",
       "      <th>Po3.</th>\n",
       "      <th>Poz.</th>\n",
       "      <th>Po4.</th>\n",
       "      <th>Po8.</th>\n",
       "      <th>O1..</th>\n",
       "      <th>Oz..</th>\n",
       "      <th>O2..</th>\n",
       "      <th>Iz..</th>\n",
       "      <th>label</th>\n",
       "    </tr>\n",
       "  </thead>\n",
       "  <tbody>\n",
       "    <tr>\n",
       "      <th>0</th>\n",
       "      <td>-5.0</td>\n",
       "      <td>2.0</td>\n",
       "      <td>37.0</td>\n",
       "      <td>39.0</td>\n",
       "      <td>30.0</td>\n",
       "      <td>26.0</td>\n",
       "      <td>-16.0</td>\n",
       "      <td>-14.0</td>\n",
       "      <td>4.0</td>\n",
       "      <td>18.0</td>\n",
       "      <td>...</td>\n",
       "      <td>-8.0</td>\n",
       "      <td>-35.0</td>\n",
       "      <td>-45.0</td>\n",
       "      <td>-66.0</td>\n",
       "      <td>-39.0</td>\n",
       "      <td>-33.0</td>\n",
       "      <td>-48.0</td>\n",
       "      <td>-39.0</td>\n",
       "      <td>-39.0</td>\n",
       "      <td>0</td>\n",
       "    </tr>\n",
       "    <tr>\n",
       "      <th>1</th>\n",
       "      <td>-12.0</td>\n",
       "      <td>-24.0</td>\n",
       "      <td>1.0</td>\n",
       "      <td>-2.0</td>\n",
       "      <td>-15.0</td>\n",
       "      <td>-22.0</td>\n",
       "      <td>-55.0</td>\n",
       "      <td>-36.0</td>\n",
       "      <td>-27.0</td>\n",
       "      <td>-25.0</td>\n",
       "      <td>...</td>\n",
       "      <td>-40.0</td>\n",
       "      <td>-68.0</td>\n",
       "      <td>-65.0</td>\n",
       "      <td>-84.0</td>\n",
       "      <td>-52.0</td>\n",
       "      <td>-21.0</td>\n",
       "      <td>-42.0</td>\n",
       "      <td>-31.0</td>\n",
       "      <td>-34.0</td>\n",
       "      <td>0</td>\n",
       "    </tr>\n",
       "    <tr>\n",
       "      <th>2</th>\n",
       "      <td>-77.0</td>\n",
       "      <td>-78.0</td>\n",
       "      <td>-59.0</td>\n",
       "      <td>-65.0</td>\n",
       "      <td>-63.0</td>\n",
       "      <td>-55.0</td>\n",
       "      <td>-67.0</td>\n",
       "      <td>-88.0</td>\n",
       "      <td>-71.0</td>\n",
       "      <td>-65.0</td>\n",
       "      <td>...</td>\n",
       "      <td>-22.0</td>\n",
       "      <td>-50.0</td>\n",
       "      <td>-35.0</td>\n",
       "      <td>-48.0</td>\n",
       "      <td>-18.0</td>\n",
       "      <td>-20.0</td>\n",
       "      <td>-42.0</td>\n",
       "      <td>-29.0</td>\n",
       "      <td>-27.0</td>\n",
       "      <td>0</td>\n",
       "    </tr>\n",
       "    <tr>\n",
       "      <th>3</th>\n",
       "      <td>-66.0</td>\n",
       "      <td>-67.0</td>\n",
       "      <td>-50.0</td>\n",
       "      <td>-65.0</td>\n",
       "      <td>-60.0</td>\n",
       "      <td>-55.0</td>\n",
       "      <td>-68.0</td>\n",
       "      <td>-62.0</td>\n",
       "      <td>-53.0</td>\n",
       "      <td>-54.0</td>\n",
       "      <td>...</td>\n",
       "      <td>-60.0</td>\n",
       "      <td>-78.0</td>\n",
       "      <td>-64.0</td>\n",
       "      <td>-68.0</td>\n",
       "      <td>-41.0</td>\n",
       "      <td>-44.0</td>\n",
       "      <td>-62.0</td>\n",
       "      <td>-34.0</td>\n",
       "      <td>-43.0</td>\n",
       "      <td>0</td>\n",
       "    </tr>\n",
       "    <tr>\n",
       "      <th>4</th>\n",
       "      <td>-45.0</td>\n",
       "      <td>-55.0</td>\n",
       "      <td>-33.0</td>\n",
       "      <td>-53.0</td>\n",
       "      <td>-54.0</td>\n",
       "      <td>-63.0</td>\n",
       "      <td>-83.0</td>\n",
       "      <td>-52.0</td>\n",
       "      <td>-50.0</td>\n",
       "      <td>-53.0</td>\n",
       "      <td>...</td>\n",
       "      <td>-55.0</td>\n",
       "      <td>-70.0</td>\n",
       "      <td>-54.0</td>\n",
       "      <td>-63.0</td>\n",
       "      <td>-37.0</td>\n",
       "      <td>-60.0</td>\n",
       "      <td>-70.0</td>\n",
       "      <td>-34.0</td>\n",
       "      <td>-45.0</td>\n",
       "      <td>0</td>\n",
       "    </tr>\n",
       "  </tbody>\n",
       "</table>\n",
       "<p>5 rows × 65 columns</p>\n",
       "</div>"
      ],
      "text/plain": [
       "   Fc5.  Fc3.  Fc1.  Fcz.  Fc2.  Fc4.  Fc6.  C5..  C3..  C1..  ...  Po7.  \\\n",
       "0  -5.0   2.0  37.0  39.0  30.0  26.0 -16.0 -14.0   4.0  18.0  ...  -8.0   \n",
       "1 -12.0 -24.0   1.0  -2.0 -15.0 -22.0 -55.0 -36.0 -27.0 -25.0  ... -40.0   \n",
       "2 -77.0 -78.0 -59.0 -65.0 -63.0 -55.0 -67.0 -88.0 -71.0 -65.0  ... -22.0   \n",
       "3 -66.0 -67.0 -50.0 -65.0 -60.0 -55.0 -68.0 -62.0 -53.0 -54.0  ... -60.0   \n",
       "4 -45.0 -55.0 -33.0 -53.0 -54.0 -63.0 -83.0 -52.0 -50.0 -53.0  ... -55.0   \n",
       "\n",
       "   Po3.  Poz.  Po4.  Po8.  O1..  Oz..  O2..  Iz..  label  \n",
       "0 -35.0 -45.0 -66.0 -39.0 -33.0 -48.0 -39.0 -39.0      0  \n",
       "1 -68.0 -65.0 -84.0 -52.0 -21.0 -42.0 -31.0 -34.0      0  \n",
       "2 -50.0 -35.0 -48.0 -18.0 -20.0 -42.0 -29.0 -27.0      0  \n",
       "3 -78.0 -64.0 -68.0 -41.0 -44.0 -62.0 -34.0 -43.0      0  \n",
       "4 -70.0 -54.0 -63.0 -37.0 -60.0 -70.0 -34.0 -45.0      0  \n",
       "\n",
       "[5 rows x 65 columns]"
      ]
     },
     "execution_count": 4,
     "metadata": {},
     "output_type": "execute_result"
    }
   ],
   "source": [
    "dataset.head()"
   ]
  },
  {
   "cell_type": "code",
   "execution_count": 5,
   "metadata": {},
   "outputs": [
    {
     "data": {
      "text/plain": [
       "(986000, 65)"
      ]
     },
     "execution_count": 5,
     "metadata": {},
     "output_type": "execute_result"
    }
   ],
   "source": [
    "dataset.shape\n"
   ]
  },
  {
   "cell_type": "code",
   "execution_count": 6,
   "metadata": {},
   "outputs": [],
   "source": [
    "data = dataset.iloc[: ,:32]\n",
    "data['label'] = dataset['label']"
   ]
  },
  {
   "cell_type": "code",
   "execution_count": 7,
   "metadata": {
    "id": "VvwA8JFQuHWA"
   },
   "outputs": [],
   "source": [
    "from sklearn.model_selection import train_test_split\n",
    "X = data.drop(columns={\"label\"})\n",
    "Y = data['label']\n",
    "X_train,X_test,Y_train,Y_test = train_test_split(X,Y,test_size=0.2,random_state=42)\n",
    "X_train = np.array(X_train)\n",
    "X_test = np.array(X_test)\n",
    "scaler = StandardScaler()\n",
    "X_train_scaled =  scaler.fit_transform(X_train)\n",
    "X_test_scaled = scaler.transform(X_test)\n",
    "X_train_reshaped = X_train_scaled.reshape(X_train.shape[0],X_train.shape[1],1)\n",
    "X_test_reshaped = X_test_scaled.reshape(X_test.shape[0],X_test.shape[1],1)\n",
    "\n",
    "\n"
   ]
  },
  {
   "cell_type": "code",
   "execution_count": 8,
   "metadata": {},
   "outputs": [],
   "source": [
    "train_accuracies = []"
   ]
  },
  {
   "cell_type": "code",
   "execution_count": 9,
   "metadata": {
    "id": "jYyrljp0u1iv"
   },
   "outputs": [
    {
     "name": "stdout",
     "output_type": "stream",
     "text": [
      "WARNING:tensorflow:From /usr/local/lib/python3.6/dist-packages/tensorflow_core/python/ops/resource_variable_ops.py:1630: calling BaseResourceVariable.__init__ (from tensorflow.python.ops.resource_variable_ops) with constraint is deprecated and will be removed in a future version.\n",
      "Instructions for updating:\n",
      "If using Keras pass *_constraint arguments to layers.\n"
     ]
    }
   ],
   "source": [
    "model = Sequential()\n",
    "model.add(Conv1D(32, kernel_size=3, activation='relu', input_shape=(X_train_reshaped.shape[1], 1)))\n",
    "model.add(MaxPooling1D(pool_size=2))\n",
    "model.add(Conv1D(64, kernel_size=2, activation='relu'))\n",
    "model.add(MaxPooling1D(pool_size=2))\n",
    "model.add(Conv1D(128, kernel_size=2, activation='relu'))\n",
    "model.add(MaxPooling1D(pool_size=2))\n",
    "model.add(Conv1D(128,kernel_size=2,activation='relu'))\n",
    "model.add(MaxPooling1D(pool_size=2))\n",
    "model.add(Flatten())\n",
    "model.add(Dense(128, activation='relu'))\n",
    "model.add(Dense(3, activation='softmax'))\n"
   ]
  },
  {
   "cell_type": "code",
   "execution_count": 10,
   "metadata": {
    "id": "NwV4a5n7vApk"
   },
   "outputs": [],
   "source": [
    "model.compile(loss='sparse_categorical_crossentropy', optimizer='adam', metrics=['accuracy'])\n",
    "\n"
   ]
  },
  {
   "cell_type": "code",
   "execution_count": 11,
   "metadata": {
    "colab": {
     "base_uri": "https://localhost:8080/"
    },
    "id": "uE79f8lQvYqB",
    "outputId": "1824f448-88b7-47b3-8b40-982f1b2276f4",
    "scrolled": true
   },
   "outputs": [
    {
     "name": "stdout",
     "output_type": "stream",
     "text": [
      "epoch 1/100\n",
      "Train on 788800 samples\n",
      "788800/788800 [==============================] - 88s 111us/sample - loss: 0.9840 - acc: 0.5264\n",
      "epoch 2/100\n",
      "Train on 788800 samples\n",
      "788800/788800 [==============================] - 85s 107us/sample - loss: 0.9026 - acc: 0.5731\n",
      "epoch 3/100\n",
      "Train on 788800 samples\n",
      "788800/788800 [==============================] - 85s 108us/sample - loss: 0.8564 - acc: 0.5986\n",
      "epoch 4/100\n",
      "Train on 788800 samples\n",
      "788800/788800 [==============================] - 85s 108us/sample - loss: 0.8271 - acc: 0.6156\n",
      "epoch 5/100\n",
      "Train on 788800 samples\n",
      "788800/788800 [==============================] - 85s 107us/sample - loss: 0.8059 - acc: 0.6270\n",
      "epoch 6/100\n",
      "Train on 788800 samples\n",
      "788800/788800 [==============================] - 85s 108us/sample - loss: 0.7901 - acc: 0.6352\n",
      "epoch 7/100\n",
      "Train on 788800 samples\n",
      "788800/788800 [==============================] - 85s 107us/sample - loss: 0.7774 - acc: 0.6417\n",
      "epoch 8/100\n",
      "Train on 788800 samples\n",
      "788800/788800 [==============================] - 84s 107us/sample - loss: 0.7675 - acc: 0.6470\n",
      "epoch 9/100\n",
      "Train on 788800 samples\n",
      "788800/788800 [==============================] - 85s 108us/sample - loss: 0.7594 - acc: 0.6519\n",
      "epoch 10/100\n",
      "Train on 788800 samples\n",
      "788800/788800 [==============================] - 85s 108us/sample - loss: 0.7526 - acc: 0.6553\n",
      "epoch 11/100\n",
      "Train on 788800 samples\n",
      "788800/788800 [==============================] - 85s 108us/sample - loss: 0.7474 - acc: 0.6580\n",
      "epoch 12/100\n",
      "Train on 788800 samples\n",
      "788800/788800 [==============================] - 85s 108us/sample - loss: 0.7418 - acc: 0.6607\n",
      "epoch 13/100\n",
      "Train on 788800 samples\n",
      "788800/788800 [==============================] - 85s 108us/sample - loss: 0.7377 - acc: 0.6631\n",
      "epoch 14/100\n",
      "Train on 788800 samples\n",
      "788800/788800 [==============================] - 85s 108us/sample - loss: 0.7336 - acc: 0.6653\n",
      "epoch 15/100\n",
      "Train on 788800 samples\n",
      "788800/788800 [==============================] - 85s 108us/sample - loss: 0.7301 - acc: 0.6676\n",
      "epoch 16/100\n",
      "Train on 788800 samples\n",
      "788800/788800 [==============================] - 85s 108us/sample - loss: 0.7262 - acc: 0.6698\n",
      "epoch 17/100\n",
      "Train on 788800 samples\n",
      "788800/788800 [==============================] - 85s 108us/sample - loss: 0.7240 - acc: 0.6707\n",
      "epoch 18/100\n",
      "Train on 788800 samples\n",
      "788800/788800 [==============================] - 85s 107us/sample - loss: 0.7208 - acc: 0.6718\n",
      "epoch 19/100\n",
      "Train on 788800 samples\n",
      "788800/788800 [==============================] - 85s 108us/sample - loss: 0.7181 - acc: 0.6737\n",
      "epoch 20/100\n",
      "Train on 788800 samples\n",
      "788800/788800 [==============================] - 85s 108us/sample - loss: 0.7156 - acc: 0.6746\n",
      "epoch 21/100\n",
      "Train on 788800 samples\n",
      "788800/788800 [==============================] - 85s 108us/sample - loss: 0.7137 - acc: 0.6759\n",
      "epoch 22/100\n",
      "Train on 788800 samples\n",
      "788800/788800 [==============================] - 85s 108us/sample - loss: 0.7118 - acc: 0.6771\n",
      "epoch 23/100\n",
      "Train on 788800 samples\n",
      "788800/788800 [==============================] - 84s 107us/sample - loss: 0.7103 - acc: 0.6774\n",
      "epoch 24/100\n",
      "Train on 788800 samples\n",
      "788800/788800 [==============================] - 85s 108us/sample - loss: 0.7086 - acc: 0.6781\n",
      "epoch 25/100\n",
      "Train on 788800 samples\n",
      "788800/788800 [==============================] - 85s 108us/sample - loss: 0.7073 - acc: 0.6788\n",
      "epoch 26/100\n",
      "Train on 788800 samples\n",
      "788800/788800 [==============================] - 85s 108us/sample - loss: 0.7049 - acc: 0.6804\n",
      "epoch 27/100\n",
      "Train on 788800 samples\n",
      "788800/788800 [==============================] - 86s 109us/sample - loss: 0.7042 - acc: 0.6812\n",
      "epoch 28/100\n",
      "Train on 788800 samples\n",
      "788800/788800 [==============================] - 85s 108us/sample - loss: 0.7030 - acc: 0.6814\n",
      "epoch 29/100\n",
      "Train on 788800 samples\n",
      "788800/788800 [==============================] - 85s 108us/sample - loss: 0.7012 - acc: 0.6820\n",
      "epoch 30/100\n",
      "Train on 788800 samples\n",
      "788800/788800 [==============================] - 85s 107us/sample - loss: 0.6994 - acc: 0.6829\n",
      "epoch 31/100\n",
      "Train on 788800 samples\n",
      "788800/788800 [==============================] - 85s 107us/sample - loss: 0.6994 - acc: 0.6835\n",
      "epoch 32/100\n",
      "Train on 788800 samples\n",
      "788800/788800 [==============================] - 85s 107us/sample - loss: 0.6981 - acc: 0.6842\n",
      "epoch 33/100\n",
      "Train on 788800 samples\n",
      "788800/788800 [==============================] - 85s 108us/sample - loss: 0.6964 - acc: 0.6843\n",
      "epoch 34/100\n",
      "Train on 788800 samples\n",
      "788800/788800 [==============================] - 85s 108us/sample - loss: 0.6957 - acc: 0.6850\n",
      "epoch 35/100\n",
      "Train on 788800 samples\n",
      "788800/788800 [==============================] - 85s 108us/sample - loss: 0.6952 - acc: 0.6856\n",
      "epoch 36/100\n",
      "Train on 788800 samples\n",
      "788800/788800 [==============================] - 85s 108us/sample - loss: 0.6937 - acc: 0.6866\n",
      "epoch 37/100\n",
      "Train on 788800 samples\n",
      "788800/788800 [==============================] - 85s 107us/sample - loss: 0.6933 - acc: 0.6863\n",
      "epoch 38/100\n",
      "Train on 788800 samples\n",
      "788800/788800 [==============================] - 85s 107us/sample - loss: 0.6928 - acc: 0.6867\n",
      "epoch 39/100\n",
      "Train on 788800 samples\n",
      "788800/788800 [==============================] - 85s 108us/sample - loss: 0.6925 - acc: 0.6867\n",
      "epoch 40/100\n",
      "Train on 788800 samples\n",
      "788800/788800 [==============================] - 85s 108us/sample - loss: 0.6915 - acc: 0.6875\n",
      "epoch 41/100\n",
      "Train on 788800 samples\n",
      "788800/788800 [==============================] - 85s 108us/sample - loss: 0.6911 - acc: 0.6876\n",
      "epoch 42/100\n",
      "Train on 788800 samples\n",
      "788800/788800 [==============================] - 85s 108us/sample - loss: 0.6910 - acc: 0.6880\n",
      "epoch 43/100\n",
      "Train on 788800 samples\n",
      "788800/788800 [==============================] - 85s 108us/sample - loss: 0.6899 - acc: 0.6884\n",
      "epoch 44/100\n",
      "Train on 788800 samples\n",
      "788800/788800 [==============================] - 85s 108us/sample - loss: 0.6897 - acc: 0.6884\n",
      "epoch 45/100\n",
      "Train on 788800 samples\n",
      "788800/788800 [==============================] - 85s 108us/sample - loss: 0.6890 - acc: 0.6887\n",
      "epoch 46/100\n",
      "Train on 788800 samples\n",
      "788800/788800 [==============================] - 85s 108us/sample - loss: 0.6887 - acc: 0.6885\n",
      "epoch 47/100\n",
      "Train on 788800 samples\n",
      "788800/788800 [==============================] - 85s 108us/sample - loss: 0.6882 - acc: 0.6892\n",
      "epoch 48/100\n",
      "Train on 788800 samples\n",
      "788800/788800 [==============================] - 85s 107us/sample - loss: 0.6879 - acc: 0.6896\n",
      "epoch 49/100\n",
      "Train on 788800 samples\n",
      "788800/788800 [==============================] - 85s 107us/sample - loss: 0.6870 - acc: 0.6900\n",
      "epoch 50/100\n",
      "Train on 788800 samples\n",
      "788800/788800 [==============================] - 85s 107us/sample - loss: 0.6879 - acc: 0.6901\n",
      "epoch 51/100\n",
      "Train on 788800 samples\n",
      "788800/788800 [==============================] - 85s 108us/sample - loss: 0.6876 - acc: 0.6897\n",
      "epoch 52/100\n",
      "Train on 788800 samples\n",
      "788800/788800 [==============================] - 85s 108us/sample - loss: 0.6872 - acc: 0.6907\n",
      "epoch 53/100\n",
      "Train on 788800 samples\n",
      "788800/788800 [==============================] - 85s 108us/sample - loss: 0.6865 - acc: 0.6903\n",
      "epoch 54/100\n",
      "Train on 788800 samples\n",
      "788800/788800 [==============================] - 85s 108us/sample - loss: 0.6867 - acc: 0.6905\n",
      "epoch 55/100\n",
      "Train on 788800 samples\n",
      "788800/788800 [==============================] - 88s 111us/sample - loss: 0.6860 - acc: 0.6910\n",
      "epoch 56/100\n",
      "Train on 788800 samples\n",
      "788800/788800 [==============================] - 85s 108us/sample - loss: 0.6862 - acc: 0.6907\n",
      "epoch 57/100\n",
      "Train on 788800 samples\n",
      "788800/788800 [==============================] - 85s 108us/sample - loss: 0.6852 - acc: 0.6914\n",
      "epoch 58/100\n",
      "Train on 788800 samples\n",
      "788800/788800 [==============================] - 85s 108us/sample - loss: 0.6855 - acc: 0.6916\n",
      "epoch 59/100\n",
      "Train on 788800 samples\n",
      "788800/788800 [==============================] - 85s 108us/sample - loss: 0.6849 - acc: 0.6915\n",
      "epoch 60/100\n",
      "Train on 788800 samples\n",
      "788800/788800 [==============================] - 85s 108us/sample - loss: 0.6850 - acc: 0.6916\n",
      "epoch 61/100\n",
      "Train on 788800 samples\n",
      "788800/788800 [==============================] - 85s 107us/sample - loss: 0.6844 - acc: 0.6917\n",
      "epoch 62/100\n",
      "Train on 788800 samples\n",
      "788800/788800 [==============================] - 85s 107us/sample - loss: 0.6849 - acc: 0.6921\n",
      "epoch 63/100\n",
      "Train on 788800 samples\n",
      "788800/788800 [==============================] - 85s 108us/sample - loss: 0.6846 - acc: 0.6918\n",
      "epoch 64/100\n",
      "Train on 788800 samples\n",
      "788800/788800 [==============================] - 85s 108us/sample - loss: 0.6837 - acc: 0.6924\n",
      "epoch 65/100\n",
      "Train on 788800 samples\n",
      "788800/788800 [==============================] - 85s 107us/sample - loss: 0.6839 - acc: 0.6924\n",
      "epoch 66/100\n",
      "Train on 788800 samples\n",
      "788800/788800 [==============================] - 85s 108us/sample - loss: 0.6844 - acc: 0.6920\n",
      "epoch 67/100\n",
      "Train on 788800 samples\n",
      "788800/788800 [==============================] - 85s 108us/sample - loss: 0.6840 - acc: 0.6923\n",
      "epoch 68/100\n",
      "Train on 788800 samples\n",
      "788800/788800 [==============================] - 85s 107us/sample - loss: 0.6829 - acc: 0.6926\n",
      "epoch 69/100\n",
      "Train on 788800 samples\n",
      "788800/788800 [==============================] - 85s 108us/sample - loss: 0.6838 - acc: 0.6922\n",
      "epoch 70/100\n",
      "Train on 788800 samples\n",
      "788800/788800 [==============================] - 85s 108us/sample - loss: 0.6828 - acc: 0.6930\n",
      "epoch 71/100\n",
      "Train on 788800 samples\n",
      "788800/788800 [==============================] - 84s 107us/sample - loss: 0.6835 - acc: 0.6928\n",
      "epoch 72/100\n",
      "Train on 788800 samples\n",
      "788800/788800 [==============================] - 85s 107us/sample - loss: 0.6834 - acc: 0.6927\n",
      "epoch 73/100\n",
      "Train on 788800 samples\n",
      "788800/788800 [==============================] - 85s 108us/sample - loss: 0.6839 - acc: 0.6925\n",
      "epoch 74/100\n",
      "Train on 788800 samples\n",
      "788800/788800 [==============================] - 84s 107us/sample - loss: 0.6836 - acc: 0.6927\n",
      "epoch 75/100\n",
      "Train on 788800 samples\n",
      "788800/788800 [==============================] - 85s 107us/sample - loss: 0.6830 - acc: 0.6926\n",
      "epoch 76/100\n",
      "Train on 788800 samples\n",
      "788800/788800 [==============================] - 85s 108us/sample - loss: 0.6837 - acc: 0.6925\n",
      "epoch 77/100\n",
      "Train on 788800 samples\n",
      "788800/788800 [==============================] - 85s 108us/sample - loss: 0.6842 - acc: 0.6925\n",
      "epoch 78/100\n",
      "Train on 788800 samples\n",
      "788800/788800 [==============================] - 85s 108us/sample - loss: 0.6841 - acc: 0.6926\n",
      "epoch 79/100\n",
      "Train on 788800 samples\n",
      "788800/788800 [==============================] - 85s 108us/sample - loss: 0.6842 - acc: 0.6927\n",
      "epoch 80/100\n",
      "Train on 788800 samples\n",
      "788800/788800 [==============================] - 85s 108us/sample - loss: 0.6836 - acc: 0.6931\n",
      "epoch 81/100\n",
      "Train on 788800 samples\n",
      "788800/788800 [==============================] - 85s 108us/sample - loss: 0.6834 - acc: 0.6929\n",
      "epoch 82/100\n",
      "Train on 788800 samples\n",
      "788800/788800 [==============================] - 85s 108us/sample - loss: 0.6837 - acc: 0.6931\n",
      "epoch 83/100\n",
      "Train on 788800 samples\n",
      "788800/788800 [==============================] - 85s 108us/sample - loss: 0.6843 - acc: 0.6928\n",
      "epoch 84/100\n",
      "Train on 788800 samples\n",
      "788800/788800 [==============================] - 85s 108us/sample - loss: 0.6844 - acc: 0.6925\n",
      "epoch 85/100\n",
      "Train on 788800 samples\n",
      "788800/788800 [==============================] - 85s 107us/sample - loss: 0.6846 - acc: 0.6925\n",
      "epoch 86/100\n",
      "Train on 788800 samples\n",
      "788800/788800 [==============================] - 85s 108us/sample - loss: 0.6850 - acc: 0.6920\n",
      "epoch 87/100\n",
      "Train on 788800 samples\n",
      "788800/788800 [==============================] - 85s 108us/sample - loss: 0.6846 - acc: 0.6924\n",
      "epoch 88/100\n",
      "Train on 788800 samples\n",
      "788800/788800 [==============================] - 86s 109us/sample - loss: 0.6841 - acc: 0.6928\n",
      "epoch 89/100\n",
      "Train on 788800 samples\n",
      "788800/788800 [==============================] - 85s 108us/sample - loss: 0.6834 - acc: 0.6927\n",
      "epoch 90/100\n",
      "Train on 788800 samples\n",
      "788800/788800 [==============================] - 85s 108us/sample - loss: 0.6847 - acc: 0.6929\n",
      "epoch 91/100\n",
      "Train on 788800 samples\n",
      "788800/788800 [==============================] - 85s 108us/sample - loss: 0.6838 - acc: 0.6929\n",
      "epoch 92/100\n",
      "Train on 788800 samples\n",
      "788800/788800 [==============================] - 85s 108us/sample - loss: 0.6850 - acc: 0.6926\n",
      "epoch 93/100\n",
      "Train on 788800 samples\n",
      "788800/788800 [==============================] - 85s 108us/sample - loss: 0.6855 - acc: 0.6920\n",
      "epoch 94/100\n",
      "Train on 788800 samples\n",
      "788800/788800 [==============================] - 86s 108us/sample - loss: 0.6856 - acc: 0.6923\n",
      "epoch 95/100\n",
      "Train on 788800 samples\n",
      "788800/788800 [==============================] - 85s 107us/sample - loss: 0.6859 - acc: 0.6921\n",
      "epoch 96/100\n",
      "Train on 788800 samples\n",
      "788800/788800 [==============================] - 85s 108us/sample - loss: 0.6857 - acc: 0.6917\n",
      "epoch 97/100\n",
      "Train on 788800 samples\n",
      "788800/788800 [==============================] - 85s 108us/sample - loss: 0.6868 - acc: 0.6919\n",
      "epoch 98/100\n",
      "Train on 788800 samples\n",
      "788800/788800 [==============================] - 85s 108us/sample - loss: 0.6870 - acc: 0.6914\n",
      "epoch 99/100\n",
      "Train on 788800 samples\n",
      "788800/788800 [==============================] - 85s 108us/sample - loss: 0.6869 - acc: 0.6920\n",
      "epoch 100/100\n",
      "Train on 788800 samples\n",
      "788800/788800 [==============================] - 85s 108us/sample - loss: 0.6864 - acc: 0.6920\n"
     ]
    }
   ],
   "source": [
    "epochs = 100\n",
    "for epoch in range(epochs):\n",
    "    print(f\"epoch {epoch+1}/100\")\n",
    "    history = model.fit(X_train_reshaped, Y_train, epochs=1)  \n",
    "    train_accuracies.append(history.history['acc'][0])\n",
    "\n"
   ]
  },
  {
   "cell_type": "code",
   "execution_count": 17,
   "metadata": {
    "colab": {
     "base_uri": "https://localhost:8080/"
    },
    "id": "O-c_muaEvcqw",
    "outputId": "c2933036-9324-4c71-a7f9-4865568ba6aa"
   },
   "outputs": [
    {
     "name": "stdout",
     "output_type": "stream",
     "text": [
      "Test Loss: 0.7480\n",
      "Test Accuracy: 0.6678\n"
     ]
    }
   ],
   "source": [
    "test_loss, test_accuracy = model.evaluate(X_test_reshaped, Y_test, verbose=0)\n",
    "\n",
    "print(f'Test Loss: {test_loss:.4f}')\n",
    "print(f'Test Accuracy: {test_accuracy:.4f}')"
   ]
  },
  {
   "cell_type": "code",
   "execution_count": 18,
   "metadata": {
    "id": "IDnQ4lGl75xV"
   },
   "outputs": [
    {
     "name": "stdout",
     "output_type": "stream",
     "text": [
      "[0.526392, 0.57312244, 0.5985814, 0.615625, 0.62697136, 0.63522315, 0.641681, 0.6470385, 0.651946, 0.65528905, 0.6580185, 0.6606909, 0.66313004, 0.66526115, 0.6676483, 0.669787, 0.67072135, 0.67177737, 0.67366254, 0.67462474, 0.6758595, 0.67711204, 0.67743534, 0.6780984, 0.67875504, 0.68038666, 0.68121195, 0.6814072, 0.6820322, 0.68292594, 0.6835307, 0.6842077, 0.68434966, 0.6850368, 0.68555146, 0.68662524, 0.6863286, 0.6867013, 0.6867013, 0.68754566, 0.68759125, 0.68804765, 0.68838996, 0.68839884, 0.6887234, 0.68853194, 0.6891925, 0.68956137, 0.689981, 0.6900532, 0.68973124, 0.69073784, 0.6902802, 0.6905401, 0.69099647, 0.6906922, 0.69140595, 0.6915619, 0.69151497, 0.6915619, 0.6917419, 0.6920525, 0.6917584, 0.6924417, 0.69242394, 0.6920474, 0.69225407, 0.69260395, 0.6922414, 0.6930401, 0.692822, 0.6927485, 0.6925317, 0.6927143, 0.69257987, 0.6924886, 0.6924658, 0.69255704, 0.69265085, 0.693144, 0.692907, 0.6930819, 0.69281316, 0.6924696, 0.6924696, 0.6919663, 0.6923517, 0.6927713, 0.6926737, 0.6928638, 0.6929222, 0.69257987, 0.69204485, 0.69229335, 0.69207025, 0.69167346, 0.69188136, 0.69138944, 0.69197387, 0.69202334]\n"
     ]
    }
   ],
   "source": [
    "print(train_accuracies)"
   ]
  },
  {
   "cell_type": "code",
   "execution_count": 19,
   "metadata": {},
   "outputs": [
    {
     "data": {
      "image/png": "[encoded data removed]",
      "text/plain": [
       "<Figure size 2880x720 with 1 Axes>"
      ]
     },
     "metadata": {
      "needs_background": "light"
     },
     "output_type": "display_data"
    }
   ],
   "source": [
    "epochs_list = [i for i in range(1,epochs+1)]\n",
    "plt.figure(figsize=(40,10))\n",
    "plt.plot(epochs_list, train_accuracies, marker='o', linestyle='-')\n",
    "plt.xlabel('Epochs')\n",
    "plt.ylabel('Training Accuracy')\n",
    "plt.title('Training Accuracy vs. Epochs')\n",
    "plt.grid(True)\n",
    "plt.xticks(range(1, 101))\n",
    "\n",
    "plt.show()"
   ]
  },
  {
   "cell_type": "code",
   "execution_count": 20,
   "metadata": {},
   "outputs": [
    {
     "name": "stdout",
     "output_type": "stream",
     "text": [
      "67.99301618337631\n"
     ]
    }
   ],
   "source": [
    "print(sum(train_accuracies))"
   ]
  },
  {
   "cell_type": "code",
   "execution_count": 21,
   "metadata": {},
   "outputs": [
    {
     "name": "stdout",
     "output_type": "stream",
     "text": [
      "0.693144\n"
     ]
    }
   ],
   "source": [
    "print(max(train_accuracies))"
   ]
  },
  {
   "cell_type": "code",
   "execution_count": null,
   "metadata": {},
   "outputs": [],
   "source": []
  }
 ],
 "metadata": {
  "accelerator": "GPU",
  "colab": {
   "gpuType": "T4",
   "provenance": []
  },
  "kernelspec": {
   "display_name": "Python 3",
   "language": "python",
   "name": "python3"
  },
  "language_info": {
   "codemirror_mode": {
    "name": "ipython",
    "version": 3
   },
   "file_extension": ".py",
   "mimetype": "text/x-python",
   "name": "python",
   "nbconvert_exporter": "python",
   "pygments_lexer": "ipython3",
   "version": "3.6.9"
  }
 },
 "nbformat": 4,
 "nbformat_minor": 4
}
