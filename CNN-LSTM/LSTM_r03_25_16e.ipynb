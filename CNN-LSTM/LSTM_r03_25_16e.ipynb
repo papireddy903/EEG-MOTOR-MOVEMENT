{
 "cells": [
  {
   "cell_type": "code",
   "execution_count": 1,
   "metadata": {
    "id": "XCNv5MBbbFWs"
   },
   "outputs": [],
   "source": [
    "from tensorflow.keras.datasets import mnist\n",
    "from tensorflow.keras.models import Sequential\n",
    "from tensorflow.keras.layers import Conv1D, MaxPooling1D, Flatten, Dense, LSTM, BatchNormalization, Dropout\n",
    "from tensorflow.keras.callbacks import EarlyStopping\n",
    "import pandas as pd\n",
    "from sklearn.preprocessing import StandardScaler\n",
    "import numpy as np\n",
    "import matplotlib.pyplot as plt"
   ]
  },
  {
   "cell_type": "code",
   "execution_count": 2,
   "metadata": {
    "id": "j8RTaadkkrLL"
   },
   "outputs": [],
   "source": [
    "dataset = pd.read_csv(\"C:\\\\Users\\\\papir\\\\Downloads\\\\Telegram Desktop\\\\Task wise combined csv files\\\\Task wise combined csv files\\\\R03_25\")\n"
   ]
  },
  {
   "cell_type": "code",
   "execution_count": 3,
   "metadata": {
    "id": "PpeohlXGzDaG"
   },
   "outputs": [],
   "source": [
    "dataset.drop(columns={\"Unnamed: 0\"}, inplace=True)"
   ]
  },
  {
   "cell_type": "code",
   "execution_count": 4,
   "metadata": {
    "colab": {
     "base_uri": "https://localhost:8080/",
     "height": 255
    },
    "id": "vgdSc6tPzA9B",
    "outputId": "739ce03d-1a4d-4782-a7cd-bb6d44c010ca"
   },
   "outputs": [
    {
     "data": {
      "text/html": [
       "<div>\n",
       "<style scoped>\n",
       "    .dataframe tbody tr th:only-of-type {\n",
       "        vertical-align: middle;\n",
       "    }\n",
       "\n",
       "    .dataframe tbody tr th {\n",
       "        vertical-align: top;\n",
       "    }\n",
       "\n",
       "    .dataframe thead th {\n",
       "        text-align: right;\n",
       "    }\n",
       "</style>\n",
       "<table border=\"1\" class=\"dataframe\">\n",
       "  <thead>\n",
       "    <tr style=\"text-align: right;\">\n",
       "      <th></th>\n",
       "      <th>Fc5.</th>\n",
       "      <th>Fc3.</th>\n",
       "      <th>Fc1.</th>\n",
       "      <th>Fcz.</th>\n",
       "      <th>Fc2.</th>\n",
       "      <th>Fc4.</th>\n",
       "      <th>Fc6.</th>\n",
       "      <th>C5..</th>\n",
       "      <th>C3..</th>\n",
       "      <th>C1..</th>\n",
       "      <th>...</th>\n",
       "      <th>Po7.</th>\n",
       "      <th>Po3.</th>\n",
       "      <th>Poz.</th>\n",
       "      <th>Po4.</th>\n",
       "      <th>Po8.</th>\n",
       "      <th>O1..</th>\n",
       "      <th>Oz..</th>\n",
       "      <th>O2..</th>\n",
       "      <th>Iz..</th>\n",
       "      <th>label</th>\n",
       "    </tr>\n",
       "  </thead>\n",
       "  <tbody>\n",
       "    <tr>\n",
       "      <th>0</th>\n",
       "      <td>-57.0</td>\n",
       "      <td>-13.0</td>\n",
       "      <td>-15.0</td>\n",
       "      <td>-12.0</td>\n",
       "      <td>-13.0</td>\n",
       "      <td>-8.0</td>\n",
       "      <td>-40.0</td>\n",
       "      <td>-54.0</td>\n",
       "      <td>-12.0</td>\n",
       "      <td>-14.0</td>\n",
       "      <td>...</td>\n",
       "      <td>-38.0</td>\n",
       "      <td>-42.0</td>\n",
       "      <td>-68.0</td>\n",
       "      <td>-76.0</td>\n",
       "      <td>-103.0</td>\n",
       "      <td>-51.0</td>\n",
       "      <td>-56.0</td>\n",
       "      <td>-124.0</td>\n",
       "      <td>-28.0</td>\n",
       "      <td>0</td>\n",
       "    </tr>\n",
       "    <tr>\n",
       "      <th>1</th>\n",
       "      <td>-49.0</td>\n",
       "      <td>-11.0</td>\n",
       "      <td>-10.0</td>\n",
       "      <td>-12.0</td>\n",
       "      <td>-19.0</td>\n",
       "      <td>-24.0</td>\n",
       "      <td>-58.0</td>\n",
       "      <td>-51.0</td>\n",
       "      <td>-19.0</td>\n",
       "      <td>-23.0</td>\n",
       "      <td>...</td>\n",
       "      <td>-55.0</td>\n",
       "      <td>-63.0</td>\n",
       "      <td>-82.0</td>\n",
       "      <td>-87.0</td>\n",
       "      <td>-99.0</td>\n",
       "      <td>-59.0</td>\n",
       "      <td>-70.0</td>\n",
       "      <td>-149.0</td>\n",
       "      <td>-40.0</td>\n",
       "      <td>0</td>\n",
       "    </tr>\n",
       "    <tr>\n",
       "      <th>2</th>\n",
       "      <td>-55.0</td>\n",
       "      <td>-17.0</td>\n",
       "      <td>-16.0</td>\n",
       "      <td>-19.0</td>\n",
       "      <td>-24.0</td>\n",
       "      <td>-29.0</td>\n",
       "      <td>-66.0</td>\n",
       "      <td>-61.0</td>\n",
       "      <td>-30.0</td>\n",
       "      <td>-36.0</td>\n",
       "      <td>...</td>\n",
       "      <td>-63.0</td>\n",
       "      <td>-72.0</td>\n",
       "      <td>-91.0</td>\n",
       "      <td>-92.0</td>\n",
       "      <td>-91.0</td>\n",
       "      <td>-67.0</td>\n",
       "      <td>-77.0</td>\n",
       "      <td>-153.0</td>\n",
       "      <td>-37.0</td>\n",
       "      <td>0</td>\n",
       "    </tr>\n",
       "    <tr>\n",
       "      <th>3</th>\n",
       "      <td>-73.0</td>\n",
       "      <td>-42.0</td>\n",
       "      <td>-40.0</td>\n",
       "      <td>-37.0</td>\n",
       "      <td>-37.0</td>\n",
       "      <td>-40.0</td>\n",
       "      <td>-71.0</td>\n",
       "      <td>-78.0</td>\n",
       "      <td>-53.0</td>\n",
       "      <td>-53.0</td>\n",
       "      <td>...</td>\n",
       "      <td>-52.0</td>\n",
       "      <td>-66.0</td>\n",
       "      <td>-100.0</td>\n",
       "      <td>-105.0</td>\n",
       "      <td>-105.0</td>\n",
       "      <td>-67.0</td>\n",
       "      <td>-72.0</td>\n",
       "      <td>-148.0</td>\n",
       "      <td>-26.0</td>\n",
       "      <td>0</td>\n",
       "    </tr>\n",
       "    <tr>\n",
       "      <th>4</th>\n",
       "      <td>-87.0</td>\n",
       "      <td>-53.0</td>\n",
       "      <td>-52.0</td>\n",
       "      <td>-51.0</td>\n",
       "      <td>-45.0</td>\n",
       "      <td>-43.0</td>\n",
       "      <td>-71.0</td>\n",
       "      <td>-87.0</td>\n",
       "      <td>-65.0</td>\n",
       "      <td>-64.0</td>\n",
       "      <td>...</td>\n",
       "      <td>-82.0</td>\n",
       "      <td>-90.0</td>\n",
       "      <td>-117.0</td>\n",
       "      <td>-119.0</td>\n",
       "      <td>-118.0</td>\n",
       "      <td>-75.0</td>\n",
       "      <td>-82.0</td>\n",
       "      <td>-161.0</td>\n",
       "      <td>-35.0</td>\n",
       "      <td>0</td>\n",
       "    </tr>\n",
       "  </tbody>\n",
       "</table>\n",
       "<p>5 rows × 65 columns</p>\n",
       "</div>"
      ],
      "text/plain": [
       "   Fc5.  Fc3.  Fc1.  Fcz.  Fc2.  Fc4.  Fc6.  C5..  C3..  C1..  ...  Po7.  \\\n",
       "0 -57.0 -13.0 -15.0 -12.0 -13.0  -8.0 -40.0 -54.0 -12.0 -14.0  ... -38.0   \n",
       "1 -49.0 -11.0 -10.0 -12.0 -19.0 -24.0 -58.0 -51.0 -19.0 -23.0  ... -55.0   \n",
       "2 -55.0 -17.0 -16.0 -19.0 -24.0 -29.0 -66.0 -61.0 -30.0 -36.0  ... -63.0   \n",
       "3 -73.0 -42.0 -40.0 -37.0 -37.0 -40.0 -71.0 -78.0 -53.0 -53.0  ... -52.0   \n",
       "4 -87.0 -53.0 -52.0 -51.0 -45.0 -43.0 -71.0 -87.0 -65.0 -64.0  ... -82.0   \n",
       "\n",
       "   Po3.   Poz.   Po4.   Po8.  O1..  Oz..   O2..  Iz..  label  \n",
       "0 -42.0  -68.0  -76.0 -103.0 -51.0 -56.0 -124.0 -28.0      0  \n",
       "1 -63.0  -82.0  -87.0  -99.0 -59.0 -70.0 -149.0 -40.0      0  \n",
       "2 -72.0  -91.0  -92.0  -91.0 -67.0 -77.0 -153.0 -37.0      0  \n",
       "3 -66.0 -100.0 -105.0 -105.0 -67.0 -72.0 -148.0 -26.0      0  \n",
       "4 -90.0 -117.0 -119.0 -118.0 -75.0 -82.0 -161.0 -35.0      0  \n",
       "\n",
       "[5 rows x 65 columns]"
      ]
     },
     "execution_count": 4,
     "metadata": {},
     "output_type": "execute_result"
    }
   ],
   "source": [
    "dataset.head()"
   ]
  },
  {
   "cell_type": "code",
   "execution_count": 5,
   "metadata": {},
   "outputs": [],
   "source": [
    "data = dataset.iloc[:, :16]\n",
    "data['label'] = dataset['label']"
   ]
  },
  {
   "cell_type": "code",
   "execution_count": 6,
   "metadata": {},
   "outputs": [
    {
     "data": {
      "text/html": [
       "<div>\n",
       "<style scoped>\n",
       "    .dataframe tbody tr th:only-of-type {\n",
       "        vertical-align: middle;\n",
       "    }\n",
       "\n",
       "    .dataframe tbody tr th {\n",
       "        vertical-align: top;\n",
       "    }\n",
       "\n",
       "    .dataframe thead th {\n",
       "        text-align: right;\n",
       "    }\n",
       "</style>\n",
       "<table border=\"1\" class=\"dataframe\">\n",
       "  <thead>\n",
       "    <tr style=\"text-align: right;\">\n",
       "      <th></th>\n",
       "      <th>Fc5.</th>\n",
       "      <th>Fc3.</th>\n",
       "      <th>Fc1.</th>\n",
       "      <th>Fcz.</th>\n",
       "      <th>Fc2.</th>\n",
       "      <th>Fc4.</th>\n",
       "      <th>Fc6.</th>\n",
       "      <th>C5..</th>\n",
       "      <th>C3..</th>\n",
       "      <th>C1..</th>\n",
       "      <th>Cz..</th>\n",
       "      <th>C2..</th>\n",
       "      <th>C4..</th>\n",
       "      <th>C6..</th>\n",
       "      <th>Cp5.</th>\n",
       "      <th>Cp3.</th>\n",
       "      <th>label</th>\n",
       "    </tr>\n",
       "  </thead>\n",
       "  <tbody>\n",
       "    <tr>\n",
       "      <th>0</th>\n",
       "      <td>-57.0</td>\n",
       "      <td>-13.0</td>\n",
       "      <td>-15.0</td>\n",
       "      <td>-12.0</td>\n",
       "      <td>-13.0</td>\n",
       "      <td>-8.0</td>\n",
       "      <td>-40.0</td>\n",
       "      <td>-54.0</td>\n",
       "      <td>-12.0</td>\n",
       "      <td>-14.0</td>\n",
       "      <td>-29.0</td>\n",
       "      <td>-15.0</td>\n",
       "      <td>-15.0</td>\n",
       "      <td>-25.0</td>\n",
       "      <td>-10.0</td>\n",
       "      <td>-14.0</td>\n",
       "      <td>0</td>\n",
       "    </tr>\n",
       "    <tr>\n",
       "      <th>1</th>\n",
       "      <td>-49.0</td>\n",
       "      <td>-11.0</td>\n",
       "      <td>-10.0</td>\n",
       "      <td>-12.0</td>\n",
       "      <td>-19.0</td>\n",
       "      <td>-24.0</td>\n",
       "      <td>-58.0</td>\n",
       "      <td>-51.0</td>\n",
       "      <td>-19.0</td>\n",
       "      <td>-23.0</td>\n",
       "      <td>-41.0</td>\n",
       "      <td>-31.0</td>\n",
       "      <td>-34.0</td>\n",
       "      <td>-46.0</td>\n",
       "      <td>-23.0</td>\n",
       "      <td>-30.0</td>\n",
       "      <td>0</td>\n",
       "    </tr>\n",
       "    <tr>\n",
       "      <th>2</th>\n",
       "      <td>-55.0</td>\n",
       "      <td>-17.0</td>\n",
       "      <td>-16.0</td>\n",
       "      <td>-19.0</td>\n",
       "      <td>-24.0</td>\n",
       "      <td>-29.0</td>\n",
       "      <td>-66.0</td>\n",
       "      <td>-61.0</td>\n",
       "      <td>-30.0</td>\n",
       "      <td>-36.0</td>\n",
       "      <td>-53.0</td>\n",
       "      <td>-41.0</td>\n",
       "      <td>-48.0</td>\n",
       "      <td>-56.0</td>\n",
       "      <td>-50.0</td>\n",
       "      <td>-47.0</td>\n",
       "      <td>0</td>\n",
       "    </tr>\n",
       "    <tr>\n",
       "      <th>3</th>\n",
       "      <td>-73.0</td>\n",
       "      <td>-42.0</td>\n",
       "      <td>-40.0</td>\n",
       "      <td>-37.0</td>\n",
       "      <td>-37.0</td>\n",
       "      <td>-40.0</td>\n",
       "      <td>-71.0</td>\n",
       "      <td>-78.0</td>\n",
       "      <td>-53.0</td>\n",
       "      <td>-53.0</td>\n",
       "      <td>-65.0</td>\n",
       "      <td>-55.0</td>\n",
       "      <td>-58.0</td>\n",
       "      <td>-67.0</td>\n",
       "      <td>-50.0</td>\n",
       "      <td>-60.0</td>\n",
       "      <td>0</td>\n",
       "    </tr>\n",
       "    <tr>\n",
       "      <th>4</th>\n",
       "      <td>-87.0</td>\n",
       "      <td>-53.0</td>\n",
       "      <td>-52.0</td>\n",
       "      <td>-51.0</td>\n",
       "      <td>-45.0</td>\n",
       "      <td>-43.0</td>\n",
       "      <td>-71.0</td>\n",
       "      <td>-87.0</td>\n",
       "      <td>-65.0</td>\n",
       "      <td>-64.0</td>\n",
       "      <td>-73.0</td>\n",
       "      <td>-66.0</td>\n",
       "      <td>-64.0</td>\n",
       "      <td>-70.0</td>\n",
       "      <td>-48.0</td>\n",
       "      <td>-71.0</td>\n",
       "      <td>0</td>\n",
       "    </tr>\n",
       "  </tbody>\n",
       "</table>\n",
       "</div>"
      ],
      "text/plain": [
       "   Fc5.  Fc3.  Fc1.  Fcz.  Fc2.  Fc4.  Fc6.  C5..  C3..  C1..  Cz..  C2..  \\\n",
       "0 -57.0 -13.0 -15.0 -12.0 -13.0  -8.0 -40.0 -54.0 -12.0 -14.0 -29.0 -15.0   \n",
       "1 -49.0 -11.0 -10.0 -12.0 -19.0 -24.0 -58.0 -51.0 -19.0 -23.0 -41.0 -31.0   \n",
       "2 -55.0 -17.0 -16.0 -19.0 -24.0 -29.0 -66.0 -61.0 -30.0 -36.0 -53.0 -41.0   \n",
       "3 -73.0 -42.0 -40.0 -37.0 -37.0 -40.0 -71.0 -78.0 -53.0 -53.0 -65.0 -55.0   \n",
       "4 -87.0 -53.0 -52.0 -51.0 -45.0 -43.0 -71.0 -87.0 -65.0 -64.0 -73.0 -66.0   \n",
       "\n",
       "   C4..  C6..  Cp5.  Cp3.  label  \n",
       "0 -15.0 -25.0 -10.0 -14.0      0  \n",
       "1 -34.0 -46.0 -23.0 -30.0      0  \n",
       "2 -48.0 -56.0 -50.0 -47.0      0  \n",
       "3 -58.0 -67.0 -50.0 -60.0      0  \n",
       "4 -64.0 -70.0 -48.0 -71.0      0  "
      ]
     },
     "execution_count": 6,
     "metadata": {},
     "output_type": "execute_result"
    }
   ],
   "source": [
    "data.head()"
   ]
  },
  {
   "cell_type": "code",
   "execution_count": 7,
   "metadata": {},
   "outputs": [
    {
     "data": {
      "text/plain": [
       "(493200, 17)"
      ]
     },
     "execution_count": 7,
     "metadata": {},
     "output_type": "execute_result"
    }
   ],
   "source": [
    "data.shape"
   ]
  },
  {
   "cell_type": "code",
   "execution_count": 8,
   "metadata": {
    "id": "VvwA8JFQuHWA"
   },
   "outputs": [],
   "source": [
    "from sklearn.model_selection import train_test_split\n",
    "X = data.drop(columns={\"label\"})\n",
    "Y = data['label']\n",
    "X_train,X_test,Y_train,Y_test = train_test_split(X,Y,test_size=0.2,random_state=42)\n",
    "X_train = np.array(X_train)\n",
    "X_test = np.array(X_test)\n",
    "scaler = StandardScaler()\n",
    "X_train_scaled =  scaler.fit_transform(X_train)\n",
    "X_test_scaled = scaler.transform(X_test)\n",
    "X_train_reshaped = X_train_scaled.reshape(X_train.shape[0],X_train.shape[1],1)\n",
    "X_test_reshaped = X_test_scaled.reshape(X_test.shape[0],X_test.shape[1],1)\n",
    "\n",
    "num_samples = X_train.shape[0]\n",
    "num_features = X_train.shape[1]\n"
   ]
  },
  {
   "cell_type": "code",
   "execution_count": 9,
   "metadata": {},
   "outputs": [],
   "source": [
    "train_accuracies = []\n",
    "val_accuracies = []"
   ]
  },
  {
   "cell_type": "code",
   "execution_count": 10,
   "metadata": {
    "id": "jYyrljp0u1iv"
   },
   "outputs": [],
   "source": [
    "model = Sequential()\n",
    "model.add(Conv1D(32, kernel_size=3, activation='relu', input_shape=(X_train_reshaped.shape[1], 1)))\n",
    "model.add(BatchNormalization())\n",
    "model.add(MaxPooling1D(pool_size=2, padding='same'))\n",
    "model.add(Conv1D(64, kernel_size=3, activation='relu'))\n",
    "model.add(BatchNormalization())\n",
    "model.add(MaxPooling1D(pool_size=2, padding='same'))\n",
    "model.add(Conv1D(128, kernel_size=3, activation='relu'))\n",
    "model.add(BatchNormalization())\n",
    "model.add(MaxPooling1D(pool_size=2, padding='same'))\n",
    "model.add(Conv1D(128, kernel_size=1, activation='relu'))\n",
    "model.add(BatchNormalization())\n",
    "model.add(MaxPooling1D(pool_size=2, padding='same'))\n",
    "model.add(LSTM(64, return_sequences=True))\n",
    "model.add(LSTM(64))\n",
    "model.add(Flatten())\n",
    "model.add(Dense(128, activation='relu'))\n",
    "model.add(BatchNormalization())\n",
    "model.add(Dropout(0.5))  # Adjust dropout rate as needed\n",
    "model.add(Dense(3, activation='softmax'))\n"
   ]
  },
  {
   "cell_type": "code",
   "execution_count": 11,
   "metadata": {
    "id": "NwV4a5n7vApk"
   },
   "outputs": [],
   "source": [
    "model.compile(loss='sparse_categorical_crossentropy', optimizer='adam', metrics=['accuracy'])"
   ]
  },
  {
   "cell_type": "code",
   "execution_count": 12,
   "metadata": {},
   "outputs": [],
   "source": [
    "early_stopping = EarlyStopping(monitor='val_loss', patience=5, restore_best_weights=True)"
   ]
  },
  {
   "cell_type": "code",
   "execution_count": null,
   "metadata": {
    "colab": {
     "base_uri": "https://localhost:8080/"
    },
    "id": "uE79f8lQvYqB",
    "outputId": "1824f448-88b7-47b3-8b40-982f1b2276f4",
    "scrolled": true
   },
   "outputs": [
    {
     "name": "stdout",
     "output_type": "stream",
     "text": [
      "epoch 1/100\n",
      "11097/11097 [==============================] - 113s 10ms/step - loss: 1.0001 - accuracy: 0.5217 - val_loss: 0.9318 - val_accuracy: 0.5605\n",
      "epoch 2/100\n",
      "11097/11097 [==============================] - 108s 10ms/step - loss: 0.9110 - accuracy: 0.5756 - val_loss: 0.8631 - val_accuracy: 0.5995\n",
      "epoch 3/100\n",
      "11097/11097 [==============================] - 108s 10ms/step - loss: 0.8618 - accuracy: 0.6031 - val_loss: 0.8219 - val_accuracy: 0.6214\n",
      "epoch 4/100\n",
      "11097/11097 [==============================] - 107s 10ms/step - loss: 0.8302 - accuracy: 0.6198 - val_loss: 0.7896 - val_accuracy: 0.6361\n",
      "epoch 5/100\n",
      "11097/11097 [==============================] - 102s 9ms/step - loss: 0.8066 - accuracy: 0.6315 - val_loss: 0.7749 - val_accuracy: 0.6450\n",
      "epoch 6/100\n",
      "11097/11097 [==============================] - 109s 10ms/step - loss: 0.7899 - accuracy: 0.6403 - val_loss: 0.7527 - val_accuracy: 0.6555\n",
      "epoch 7/100\n",
      "11097/11097 [==============================] - 107s 10ms/step - loss: 0.7768 - accuracy: 0.6463 - val_loss: 0.7497 - val_accuracy: 0.6547\n",
      "epoch 8/100\n",
      "11097/11097 [==============================] - 109s 10ms/step - loss: 0.7640 - accuracy: 0.6537 - val_loss: 0.7305 - val_accuracy: 0.6654\n",
      "epoch 9/100\n",
      "11097/11097 [==============================] - 108s 10ms/step - loss: 0.7525 - accuracy: 0.6600 - val_loss: 0.7270 - val_accuracy: 0.6698\n",
      "epoch 10/100\n",
      "11097/11097 [==============================] - 109s 10ms/step - loss: 0.7448 - accuracy: 0.6622 - val_loss: 0.7187 - val_accuracy: 0.6722\n",
      "epoch 11/100\n",
      "11097/11097 [==============================] - 107s 10ms/step - loss: 0.7358 - accuracy: 0.6682 - val_loss: 0.7108 - val_accuracy: 0.6798\n",
      "epoch 12/100\n",
      "11097/11097 [==============================] - 107s 10ms/step - loss: 0.7281 - accuracy: 0.6720 - val_loss: 0.7038 - val_accuracy: 0.6809\n",
      "epoch 13/100\n",
      "11097/11097 [==============================] - 109s 10ms/step - loss: 0.7220 - accuracy: 0.6745 - val_loss: 0.7064 - val_accuracy: 0.6819\n",
      "epoch 14/100\n",
      "11097/11097 [==============================] - 106s 10ms/step - loss: 0.7163 - accuracy: 0.6776 - val_loss: 0.6943 - val_accuracy: 0.6851\n",
      "epoch 15/100\n",
      "11097/11097 [==============================] - 101s 9ms/step - loss: 0.7095 - accuracy: 0.6816 - val_loss: 0.6891 - val_accuracy: 0.6887\n",
      "epoch 16/100\n",
      "11097/11097 [==============================] - 100s 9ms/step - loss: 0.7063 - accuracy: 0.6824 - val_loss: 0.6942 - val_accuracy: 0.6859\n",
      "epoch 17/100\n",
      "11097/11097 [==============================] - 110s 10ms/step - loss: 0.7002 - accuracy: 0.6851 - val_loss: 0.6837 - val_accuracy: 0.6907\n",
      "epoch 18/100\n",
      "11097/11097 [==============================] - 106s 10ms/step - loss: 0.6958 - accuracy: 0.6872 - val_loss: 0.6811 - val_accuracy: 0.6918\n",
      "epoch 19/100\n",
      "11097/11097 [==============================] - 109s 10ms/step - loss: 0.6928 - accuracy: 0.6892 - val_loss: 0.6825 - val_accuracy: 0.6911\n",
      "epoch 20/100\n",
      "11097/11097 [==============================] - 108s 10ms/step - loss: 0.6890 - accuracy: 0.6908 - val_loss: 0.6742 - val_accuracy: 0.6959\n",
      "epoch 21/100\n",
      " 8952/11097 [=======================>......] - ETA: 19s - loss: 0.6849 - accuracy: 0.6930"
     ]
    }
   ],
   "source": [
    "epochs = 100\n",
    "for epoch in range(epochs):\n",
    "    print(f\"epoch {epoch+1}/100\")\n",
    "    history = model.fit(X_train_reshaped, Y_train, validation_split=0.1,epochs=1, callbacks=[early_stopping])  \n",
    "    train_accuracies.append(history.history['accuracy'][0])\n",
    "    val_accuracies.append(history.history['val_accuracy'][0])\n"
   ]
  },
  {
   "cell_type": "code",
   "execution_count": null,
   "metadata": {
    "colab": {
     "base_uri": "https://localhost:8080/"
    },
    "id": "O-c_muaEvcqw",
    "outputId": "c2933036-9324-4c71-a7f9-4865568ba6aa"
   },
   "outputs": [],
   "source": [
    "test_loss, test_accuracy = model.evaluate(X_test_reshaped, Y_test, verbose=0)\n",
    "\n",
    "print(f'Test Loss: {test_loss:.4f}')\n",
    "print(f'Test Accuracy: {test_accuracy:.4f}')"
   ]
  },
  {
   "cell_type": "code",
   "execution_count": null,
   "metadata": {
    "id": "IDnQ4lGl75xV"
   },
   "outputs": [],
   "source": [
    "print(train_accuracies)\n",
    "print(len(train_accuracies))"
   ]
  },
  {
   "cell_type": "code",
   "execution_count": null,
   "metadata": {},
   "outputs": [],
   "source": [
    "import matplotlib.pyplot as plt\n",
    "epochs_list = [i for i in range(1,101)]\n",
    "plt.figure(figsize=(40,10))\n",
    "plt.plot(epochs_list, train_accuracies, marker='o', linestyle='-')\n",
    "plt.xlabel('Epochs')\n",
    "plt.ylabel('Training Accuracy')\n",
    "plt.title('Training Accuracy vs. Epochs')\n",
    "plt.grid(True)\n",
    "plt.xticks(range(1, 101))\n",
    "\n",
    "plt.show()"
   ]
  },
  {
   "cell_type": "code",
   "execution_count": null,
   "metadata": {},
   "outputs": [],
   "source": [
    "train_accuracies = [0.57166916, 0.6777085, 0.71252084, 0.7304649, 0.74382997, 0.75416213, 0.7635876, 0.771022, 0.7789352, 0.7861894, 0.7910359, 0.79711014, 0.80169755, 0.8060399, 0.810571, 0.81456417, 0.8187151, 0.82240134, 0.82603407, 0.8303342, 0.83221817, 0.8354595, 0.8380587, 0.8413676, 0.84360075, 0.84710115, 0.84888655, 0.8513703, 0.85342604, 0.8556254, 0.85809225, 0.8604099, 0.8618292, 0.8633161, 0.86542255, 0.8669291, 0.8682386, 0.8697086, 0.8715672, 0.87247396, 0.87451565, 0.87590116, 0.87630385, 0.8780414, 0.8790073, 0.8803618, 0.8820796, 0.88278925, 0.8841804, 0.8846873, 0.8863037, 0.88646424, 0.8878357, 0.88900995, 0.8897872, 0.89108545, 0.8912938, 0.8921302, 0.89303416, 0.8935861, 0.8940141, 0.89499414, 0.89611495, 0.89630646, 0.8983171, 0.89786935, 0.8985734, 0.89951956, 0.9003954, 0.90091074, 0.9011923, 0.9013275, 0.9025891, 0.9027074, 0.903448, 0.90415484, 0.90442234, 0.9057121, 0.90600216, 0.9059881, 0.9063739, 0.9073342, 0.9083677, 0.90822405, 0.9083311, 0.9094012, 0.9091731, 0.9098264, 0.9096913, 0.9106177, 0.9111528, 0.9107444, 0.912268, 0.9126369, 0.9126031, 0.9123609, 0.9131015, 0.91367596, 0.9136535, 0.9144645]\n",
    "print(sum(train_accuracies))"
   ]
  },
  {
   "cell_type": "code",
   "execution_count": null,
   "metadata": {},
   "outputs": [],
   "source": [
    "print(max(train_accuracies))"
   ]
  },
  {
   "cell_type": "code",
   "execution_count": null,
   "metadata": {},
   "outputs": [],
   "source": [
    "y_test_data = np.array(Y_test)\n",
    "\n",
    "y_test_data.shape"
   ]
  },
  {
   "cell_type": "code",
   "execution_count": null,
   "metadata": {},
   "outputs": [],
   "source": [
    "from sklearn.metrics import accuracy_score\n",
    "\n",
    "input_data = np.array(X_test_reshaped[2390]).reshape(1,X_test_reshaped[0].shape[0], X_test_reshaped[0].shape[1])\n",
    "\n",
    "print(input_data.shape)\n",
    "pred = model.predict(input_data)\n",
    "y_pred_labels = np.argmax(pred, axis=1)\n",
    "\n",
    "print(\"True Label:\", Y_test.iloc[0])  \n",
    "print(\"Predicted Label:\", y_pred_labels[0])\n",
    "print(\"Predicted Probabilities:\", pred)\n",
    "\n"
   ]
  },
  {
   "cell_type": "markdown",
   "metadata": {},
   "source": [
    "## "
   ]
  },
  {
   "cell_type": "code",
   "execution_count": null,
   "metadata": {},
   "outputs": [],
   "source": []
  },
  {
   "cell_type": "code",
   "execution_count": null,
   "metadata": {},
   "outputs": [],
   "source": []
  }
 ],
 "metadata": {
  "accelerator": "GPU",
  "colab": {
   "gpuType": "T4",
   "provenance": []
  },
  "kernelspec": {
   "display_name": "Python 3 (ipykernel)",
   "language": "python",
   "name": "python3"
  },
  "language_info": {
   "codemirror_mode": {
    "name": "ipython",
    "version": 3
   },
   "file_extension": ".py",
   "mimetype": "text/x-python",
   "name": "python",
   "nbconvert_exporter": "python",
   "pygments_lexer": "ipython3",
   "version": "3.10.11"
  }
 },
 "nbformat": 4,
 "nbformat_minor": 4
}
