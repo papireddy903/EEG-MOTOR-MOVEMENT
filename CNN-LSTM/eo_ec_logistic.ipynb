{
 "cells": [
  {
   "cell_type": "code",
   "execution_count": 2,
   "metadata": {
    "id": "XCNv5MBbbFWs"
   },
   "outputs": [],
   "source": [
    "import pandas as pd\n",
    "from sklearn.preprocessing import StandardScaler\n",
    "import numpy as np\n",
    "import matplotlib.pyplot as plt\n",
    "from sklearn.metrics import confusion_matrix, classification_report, accuracy_score\n",
    "from sklearn.linear_model import LogisticRegression\n",
    "import warnings\n",
    "warnings.filterwarnings(\"ignore\")"
   ]
  },
  {
   "cell_type": "code",
   "execution_count": 3,
   "metadata": {
    "id": "j8RTaadkkrLL"
   },
   "outputs": [],
   "source": [
    "# dataset = pd.read_csv(\"./R03_25\")  in dgx\n",
    "dataset = pd.read_csv(\"C:\\\\Users\\\\papir\\\\Downloads\\\\Telegram Desktop\\\\Task wise combined csv files - Task R01 and R02\\\\Task wise combined csv files - Task R01\\\\R01_25\")"
   ]
  },
  {
   "cell_type": "code",
   "execution_count": 4,
   "metadata": {
    "id": "PpeohlXGzDaG"
   },
   "outputs": [],
   "source": [
    "dataset.drop(columns={\"Unnamed: 0\"}, inplace=True)"
   ]
  },
  {
   "cell_type": "code",
   "execution_count": 5,
   "metadata": {
    "colab": {
     "base_uri": "https://localhost:8080/",
     "height": 255
    },
    "id": "vgdSc6tPzA9B",
    "outputId": "739ce03d-1a4d-4782-a7cd-bb6d44c010ca"
   },
   "outputs": [
    {
     "data": {
      "text/html": [
       "<div>\n",
       "<style scoped>\n",
       "    .dataframe tbody tr th:only-of-type {\n",
       "        vertical-align: middle;\n",
       "    }\n",
       "\n",
       "    .dataframe tbody tr th {\n",
       "        vertical-align: top;\n",
       "    }\n",
       "\n",
       "    .dataframe thead th {\n",
       "        text-align: right;\n",
       "    }\n",
       "</style>\n",
       "<table border=\"1\" class=\"dataframe\">\n",
       "  <thead>\n",
       "    <tr style=\"text-align: right;\">\n",
       "      <th></th>\n",
       "      <th>Fc5.</th>\n",
       "      <th>Fc3.</th>\n",
       "      <th>Fc1.</th>\n",
       "      <th>Fcz.</th>\n",
       "      <th>Fc2.</th>\n",
       "      <th>Fc4.</th>\n",
       "      <th>Fc6.</th>\n",
       "      <th>C5..</th>\n",
       "      <th>C3..</th>\n",
       "      <th>C1..</th>\n",
       "      <th>...</th>\n",
       "      <th>Po7.</th>\n",
       "      <th>Po3.</th>\n",
       "      <th>Poz.</th>\n",
       "      <th>Po4.</th>\n",
       "      <th>Po8.</th>\n",
       "      <th>O1..</th>\n",
       "      <th>Oz..</th>\n",
       "      <th>O2..</th>\n",
       "      <th>Iz..</th>\n",
       "      <th>label</th>\n",
       "    </tr>\n",
       "  </thead>\n",
       "  <tbody>\n",
       "    <tr>\n",
       "      <th>0</th>\n",
       "      <td>-16.0</td>\n",
       "      <td>-29.0</td>\n",
       "      <td>2.0</td>\n",
       "      <td>22.0</td>\n",
       "      <td>-12.0</td>\n",
       "      <td>-23.0</td>\n",
       "      <td>-46.0</td>\n",
       "      <td>-36.0</td>\n",
       "      <td>-26.0</td>\n",
       "      <td>-18.0</td>\n",
       "      <td>...</td>\n",
       "      <td>-56.0</td>\n",
       "      <td>-52.0</td>\n",
       "      <td>-35.0</td>\n",
       "      <td>-22.0</td>\n",
       "      <td>-33.0</td>\n",
       "      <td>-53.0</td>\n",
       "      <td>-21.0</td>\n",
       "      <td>-11.0</td>\n",
       "      <td>15.0</td>\n",
       "      <td>0</td>\n",
       "    </tr>\n",
       "    <tr>\n",
       "      <th>1</th>\n",
       "      <td>-56.0</td>\n",
       "      <td>-54.0</td>\n",
       "      <td>-27.0</td>\n",
       "      <td>-4.0</td>\n",
       "      <td>-31.0</td>\n",
       "      <td>-36.0</td>\n",
       "      <td>-56.0</td>\n",
       "      <td>-75.0</td>\n",
       "      <td>-55.0</td>\n",
       "      <td>-43.0</td>\n",
       "      <td>...</td>\n",
       "      <td>-35.0</td>\n",
       "      <td>-29.0</td>\n",
       "      <td>-18.0</td>\n",
       "      <td>-3.0</td>\n",
       "      <td>-9.0</td>\n",
       "      <td>-53.0</td>\n",
       "      <td>-12.0</td>\n",
       "      <td>1.0</td>\n",
       "      <td>21.0</td>\n",
       "      <td>0</td>\n",
       "    </tr>\n",
       "    <tr>\n",
       "      <th>2</th>\n",
       "      <td>-55.0</td>\n",
       "      <td>-55.0</td>\n",
       "      <td>-29.0</td>\n",
       "      <td>-5.0</td>\n",
       "      <td>-29.0</td>\n",
       "      <td>-34.0</td>\n",
       "      <td>-52.0</td>\n",
       "      <td>-53.0</td>\n",
       "      <td>-42.0</td>\n",
       "      <td>-35.0</td>\n",
       "      <td>...</td>\n",
       "      <td>-23.0</td>\n",
       "      <td>-12.0</td>\n",
       "      <td>-6.0</td>\n",
       "      <td>4.0</td>\n",
       "      <td>-7.0</td>\n",
       "      <td>-45.0</td>\n",
       "      <td>2.0</td>\n",
       "      <td>18.0</td>\n",
       "      <td>35.0</td>\n",
       "      <td>0</td>\n",
       "    </tr>\n",
       "    <tr>\n",
       "      <th>3</th>\n",
       "      <td>-50.0</td>\n",
       "      <td>-44.0</td>\n",
       "      <td>-13.0</td>\n",
       "      <td>13.0</td>\n",
       "      <td>-16.0</td>\n",
       "      <td>-25.0</td>\n",
       "      <td>-45.0</td>\n",
       "      <td>-44.0</td>\n",
       "      <td>-21.0</td>\n",
       "      <td>-11.0</td>\n",
       "      <td>...</td>\n",
       "      <td>-12.0</td>\n",
       "      <td>4.0</td>\n",
       "      <td>14.0</td>\n",
       "      <td>20.0</td>\n",
       "      <td>7.0</td>\n",
       "      <td>-29.0</td>\n",
       "      <td>16.0</td>\n",
       "      <td>35.0</td>\n",
       "      <td>47.0</td>\n",
       "      <td>0</td>\n",
       "    </tr>\n",
       "    <tr>\n",
       "      <th>4</th>\n",
       "      <td>-36.0</td>\n",
       "      <td>-28.0</td>\n",
       "      <td>13.0</td>\n",
       "      <td>42.0</td>\n",
       "      <td>9.0</td>\n",
       "      <td>-10.0</td>\n",
       "      <td>-46.0</td>\n",
       "      <td>-34.0</td>\n",
       "      <td>-12.0</td>\n",
       "      <td>8.0</td>\n",
       "      <td>...</td>\n",
       "      <td>-7.0</td>\n",
       "      <td>6.0</td>\n",
       "      <td>20.0</td>\n",
       "      <td>24.0</td>\n",
       "      <td>6.0</td>\n",
       "      <td>-13.0</td>\n",
       "      <td>29.0</td>\n",
       "      <td>40.0</td>\n",
       "      <td>50.0</td>\n",
       "      <td>0</td>\n",
       "    </tr>\n",
       "  </tbody>\n",
       "</table>\n",
       "<p>5 rows × 65 columns</p>\n",
       "</div>"
      ],
      "text/plain": [
       "   Fc5.  Fc3.  Fc1.  Fcz.  Fc2.  Fc4.  Fc6.  C5..  C3..  C1..  ...  Po7.  \\\n",
       "0 -16.0 -29.0   2.0  22.0 -12.0 -23.0 -46.0 -36.0 -26.0 -18.0  ... -56.0   \n",
       "1 -56.0 -54.0 -27.0  -4.0 -31.0 -36.0 -56.0 -75.0 -55.0 -43.0  ... -35.0   \n",
       "2 -55.0 -55.0 -29.0  -5.0 -29.0 -34.0 -52.0 -53.0 -42.0 -35.0  ... -23.0   \n",
       "3 -50.0 -44.0 -13.0  13.0 -16.0 -25.0 -45.0 -44.0 -21.0 -11.0  ... -12.0   \n",
       "4 -36.0 -28.0  13.0  42.0   9.0 -10.0 -46.0 -34.0 -12.0   8.0  ...  -7.0   \n",
       "\n",
       "   Po3.  Poz.  Po4.  Po8.  O1..  Oz..  O2..  Iz..  label  \n",
       "0 -52.0 -35.0 -22.0 -33.0 -53.0 -21.0 -11.0  15.0      0  \n",
       "1 -29.0 -18.0  -3.0  -9.0 -53.0 -12.0   1.0  21.0      0  \n",
       "2 -12.0  -6.0   4.0  -7.0 -45.0   2.0  18.0  35.0      0  \n",
       "3   4.0  14.0  20.0   7.0 -29.0  16.0  35.0  47.0      0  \n",
       "4   6.0  20.0  24.0   6.0 -13.0  29.0  40.0  50.0      0  \n",
       "\n",
       "[5 rows x 65 columns]"
      ]
     },
     "execution_count": 5,
     "metadata": {},
     "output_type": "execute_result"
    }
   ],
   "source": [
    "dataset.head()"
   ]
  },
  {
   "cell_type": "code",
   "execution_count": 6,
   "metadata": {},
   "outputs": [],
   "source": [
    "data = dataset    # for 64 electrodes\n",
    "# data = dataset.iloc[:,:n_electrodes] # 32 electrodes, change value for respective electrode numbers"
   ]
  },
  {
   "cell_type": "code",
   "execution_count": 7,
   "metadata": {},
   "outputs": [
    {
     "data": {
      "text/html": [
       "<div>\n",
       "<style scoped>\n",
       "    .dataframe tbody tr th:only-of-type {\n",
       "        vertical-align: middle;\n",
       "    }\n",
       "\n",
       "    .dataframe tbody tr th {\n",
       "        vertical-align: top;\n",
       "    }\n",
       "\n",
       "    .dataframe thead th {\n",
       "        text-align: right;\n",
       "    }\n",
       "</style>\n",
       "<table border=\"1\" class=\"dataframe\">\n",
       "  <thead>\n",
       "    <tr style=\"text-align: right;\">\n",
       "      <th></th>\n",
       "      <th>Fc5.</th>\n",
       "      <th>Fc3.</th>\n",
       "      <th>Fc1.</th>\n",
       "      <th>Fcz.</th>\n",
       "      <th>Fc2.</th>\n",
       "      <th>Fc4.</th>\n",
       "      <th>Fc6.</th>\n",
       "      <th>C5..</th>\n",
       "      <th>C3..</th>\n",
       "      <th>C1..</th>\n",
       "      <th>...</th>\n",
       "      <th>Po7.</th>\n",
       "      <th>Po3.</th>\n",
       "      <th>Poz.</th>\n",
       "      <th>Po4.</th>\n",
       "      <th>Po8.</th>\n",
       "      <th>O1..</th>\n",
       "      <th>Oz..</th>\n",
       "      <th>O2..</th>\n",
       "      <th>Iz..</th>\n",
       "      <th>label</th>\n",
       "    </tr>\n",
       "  </thead>\n",
       "  <tbody>\n",
       "    <tr>\n",
       "      <th>0</th>\n",
       "      <td>-16.0</td>\n",
       "      <td>-29.0</td>\n",
       "      <td>2.0</td>\n",
       "      <td>22.0</td>\n",
       "      <td>-12.0</td>\n",
       "      <td>-23.0</td>\n",
       "      <td>-46.0</td>\n",
       "      <td>-36.0</td>\n",
       "      <td>-26.0</td>\n",
       "      <td>-18.0</td>\n",
       "      <td>...</td>\n",
       "      <td>-56.0</td>\n",
       "      <td>-52.0</td>\n",
       "      <td>-35.0</td>\n",
       "      <td>-22.0</td>\n",
       "      <td>-33.0</td>\n",
       "      <td>-53.0</td>\n",
       "      <td>-21.0</td>\n",
       "      <td>-11.0</td>\n",
       "      <td>15.0</td>\n",
       "      <td>0</td>\n",
       "    </tr>\n",
       "    <tr>\n",
       "      <th>1</th>\n",
       "      <td>-56.0</td>\n",
       "      <td>-54.0</td>\n",
       "      <td>-27.0</td>\n",
       "      <td>-4.0</td>\n",
       "      <td>-31.0</td>\n",
       "      <td>-36.0</td>\n",
       "      <td>-56.0</td>\n",
       "      <td>-75.0</td>\n",
       "      <td>-55.0</td>\n",
       "      <td>-43.0</td>\n",
       "      <td>...</td>\n",
       "      <td>-35.0</td>\n",
       "      <td>-29.0</td>\n",
       "      <td>-18.0</td>\n",
       "      <td>-3.0</td>\n",
       "      <td>-9.0</td>\n",
       "      <td>-53.0</td>\n",
       "      <td>-12.0</td>\n",
       "      <td>1.0</td>\n",
       "      <td>21.0</td>\n",
       "      <td>0</td>\n",
       "    </tr>\n",
       "    <tr>\n",
       "      <th>2</th>\n",
       "      <td>-55.0</td>\n",
       "      <td>-55.0</td>\n",
       "      <td>-29.0</td>\n",
       "      <td>-5.0</td>\n",
       "      <td>-29.0</td>\n",
       "      <td>-34.0</td>\n",
       "      <td>-52.0</td>\n",
       "      <td>-53.0</td>\n",
       "      <td>-42.0</td>\n",
       "      <td>-35.0</td>\n",
       "      <td>...</td>\n",
       "      <td>-23.0</td>\n",
       "      <td>-12.0</td>\n",
       "      <td>-6.0</td>\n",
       "      <td>4.0</td>\n",
       "      <td>-7.0</td>\n",
       "      <td>-45.0</td>\n",
       "      <td>2.0</td>\n",
       "      <td>18.0</td>\n",
       "      <td>35.0</td>\n",
       "      <td>0</td>\n",
       "    </tr>\n",
       "    <tr>\n",
       "      <th>3</th>\n",
       "      <td>-50.0</td>\n",
       "      <td>-44.0</td>\n",
       "      <td>-13.0</td>\n",
       "      <td>13.0</td>\n",
       "      <td>-16.0</td>\n",
       "      <td>-25.0</td>\n",
       "      <td>-45.0</td>\n",
       "      <td>-44.0</td>\n",
       "      <td>-21.0</td>\n",
       "      <td>-11.0</td>\n",
       "      <td>...</td>\n",
       "      <td>-12.0</td>\n",
       "      <td>4.0</td>\n",
       "      <td>14.0</td>\n",
       "      <td>20.0</td>\n",
       "      <td>7.0</td>\n",
       "      <td>-29.0</td>\n",
       "      <td>16.0</td>\n",
       "      <td>35.0</td>\n",
       "      <td>47.0</td>\n",
       "      <td>0</td>\n",
       "    </tr>\n",
       "    <tr>\n",
       "      <th>4</th>\n",
       "      <td>-36.0</td>\n",
       "      <td>-28.0</td>\n",
       "      <td>13.0</td>\n",
       "      <td>42.0</td>\n",
       "      <td>9.0</td>\n",
       "      <td>-10.0</td>\n",
       "      <td>-46.0</td>\n",
       "      <td>-34.0</td>\n",
       "      <td>-12.0</td>\n",
       "      <td>8.0</td>\n",
       "      <td>...</td>\n",
       "      <td>-7.0</td>\n",
       "      <td>6.0</td>\n",
       "      <td>20.0</td>\n",
       "      <td>24.0</td>\n",
       "      <td>6.0</td>\n",
       "      <td>-13.0</td>\n",
       "      <td>29.0</td>\n",
       "      <td>40.0</td>\n",
       "      <td>50.0</td>\n",
       "      <td>0</td>\n",
       "    </tr>\n",
       "  </tbody>\n",
       "</table>\n",
       "<p>5 rows × 65 columns</p>\n",
       "</div>"
      ],
      "text/plain": [
       "   Fc5.  Fc3.  Fc1.  Fcz.  Fc2.  Fc4.  Fc6.  C5..  C3..  C1..  ...  Po7.  \\\n",
       "0 -16.0 -29.0   2.0  22.0 -12.0 -23.0 -46.0 -36.0 -26.0 -18.0  ... -56.0   \n",
       "1 -56.0 -54.0 -27.0  -4.0 -31.0 -36.0 -56.0 -75.0 -55.0 -43.0  ... -35.0   \n",
       "2 -55.0 -55.0 -29.0  -5.0 -29.0 -34.0 -52.0 -53.0 -42.0 -35.0  ... -23.0   \n",
       "3 -50.0 -44.0 -13.0  13.0 -16.0 -25.0 -45.0 -44.0 -21.0 -11.0  ... -12.0   \n",
       "4 -36.0 -28.0  13.0  42.0   9.0 -10.0 -46.0 -34.0 -12.0   8.0  ...  -7.0   \n",
       "\n",
       "   Po3.  Poz.  Po4.  Po8.  O1..  Oz..  O2..  Iz..  label  \n",
       "0 -52.0 -35.0 -22.0 -33.0 -53.0 -21.0 -11.0  15.0      0  \n",
       "1 -29.0 -18.0  -3.0  -9.0 -53.0 -12.0   1.0  21.0      0  \n",
       "2 -12.0  -6.0   4.0  -7.0 -45.0   2.0  18.0  35.0      0  \n",
       "3   4.0  14.0  20.0   7.0 -29.0  16.0  35.0  47.0      0  \n",
       "4   6.0  20.0  24.0   6.0 -13.0  29.0  40.0  50.0      0  \n",
       "\n",
       "[5 rows x 65 columns]"
      ]
     },
     "execution_count": 7,
     "metadata": {},
     "output_type": "execute_result"
    }
   ],
   "source": [
    "data.head()"
   ]
  },
  {
   "cell_type": "code",
   "execution_count": 8,
   "metadata": {},
   "outputs": [
    {
     "data": {
      "text/plain": [
       "(240736, 65)"
      ]
     },
     "execution_count": 8,
     "metadata": {},
     "output_type": "execute_result"
    }
   ],
   "source": [
    "data.shape"
   ]
  },
  {
   "cell_type": "code",
   "execution_count": 9,
   "metadata": {},
   "outputs": [],
   "source": [
    "data.loc[150,'label'] = 1 \n",
    "data.loc[24000,'label'] = 1\n",
    "data.loc[24001,'label'] = 1"
   ]
  },
  {
   "cell_type": "code",
   "execution_count": 10,
   "metadata": {
    "id": "VvwA8JFQuHWA"
   },
   "outputs": [],
   "source": [
    "from sklearn.model_selection import train_test_split\n",
    "X = data.drop(columns={\"label\"})\n",
    "Y = data['label']\n",
    "X_train,X_test,Y_train,Y_test = train_test_split(X,Y,test_size=0.2,random_state=42)\n",
    "X_train = np.array(X_train)\n",
    "X_test = np.array(X_test)\n",
    "scaler = StandardScaler()\n",
    "X_train_scaled =  scaler.fit_transform(X_train)\n",
    "X_test_scaled = scaler.transform(X_test)\n",
    "\n",
    "\n",
    "num_samples = X_train.shape[0]\n",
    "num_features = X_train.shape[1]\n"
   ]
  },
  {
   "cell_type": "code",
   "execution_count": 11,
   "metadata": {
    "id": "jYyrljp0u1iv"
   },
   "outputs": [],
   "source": [
    "model = LogisticRegression(max_iter=1000)"
   ]
  },
  {
   "cell_type": "code",
   "execution_count": 12,
   "metadata": {
    "id": "NwV4a5n7vApk"
   },
   "outputs": [
    {
     "data": {
      "text/html": [
       "<style>#sk-container-id-1 {color: black;background-color: white;}#sk-container-id-1 pre{padding: 0;}#sk-container-id-1 div.sk-toggleable {background-color: white;}#sk-container-id-1 label.sk-toggleable__label {cursor: pointer;display: block;width: 100%;margin-bottom: 0;padding: 0.3em;box-sizing: border-box;text-align: center;}#sk-container-id-1 label.sk-toggleable__label-arrow:before {content: \"▸\";float: left;margin-right: 0.25em;color: #696969;}#sk-container-id-1 label.sk-toggleable__label-arrow:hover:before {color: black;}#sk-container-id-1 div.sk-estimator:hover label.sk-toggleable__label-arrow:before {color: black;}#sk-container-id-1 div.sk-toggleable__content {max-height: 0;max-width: 0;overflow: hidden;text-align: left;background-color: #f0f8ff;}#sk-container-id-1 div.sk-toggleable__content pre {margin: 0.2em;color: black;border-radius: 0.25em;background-color: #f0f8ff;}#sk-container-id-1 input.sk-toggleable__control:checked~div.sk-toggleable__content {max-height: 200px;max-width: 100%;overflow: auto;}#sk-container-id-1 input.sk-toggleable__control:checked~label.sk-toggleable__label-arrow:before {content: \"▾\";}#sk-container-id-1 div.sk-estimator input.sk-toggleable__control:checked~label.sk-toggleable__label {background-color: #d4ebff;}#sk-container-id-1 div.sk-label input.sk-toggleable__control:checked~label.sk-toggleable__label {background-color: #d4ebff;}#sk-container-id-1 input.sk-hidden--visually {border: 0;clip: rect(1px 1px 1px 1px);clip: rect(1px, 1px, 1px, 1px);height: 1px;margin: -1px;overflow: hidden;padding: 0;position: absolute;width: 1px;}#sk-container-id-1 div.sk-estimator {font-family: monospace;background-color: #f0f8ff;border: 1px dotted black;border-radius: 0.25em;box-sizing: border-box;margin-bottom: 0.5em;}#sk-container-id-1 div.sk-estimator:hover {background-color: #d4ebff;}#sk-container-id-1 div.sk-parallel-item::after {content: \"\";width: 100%;border-bottom: 1px solid gray;flex-grow: 1;}#sk-container-id-1 div.sk-label:hover label.sk-toggleable__label {background-color: #d4ebff;}#sk-container-id-1 div.sk-serial::before {content: \"\";position: absolute;border-left: 1px solid gray;box-sizing: border-box;top: 0;bottom: 0;left: 50%;z-index: 0;}#sk-container-id-1 div.sk-serial {display: flex;flex-direction: column;align-items: center;background-color: white;padding-right: 0.2em;padding-left: 0.2em;position: relative;}#sk-container-id-1 div.sk-item {position: relative;z-index: 1;}#sk-container-id-1 div.sk-parallel {display: flex;align-items: stretch;justify-content: center;background-color: white;position: relative;}#sk-container-id-1 div.sk-item::before, #sk-container-id-1 div.sk-parallel-item::before {content: \"\";position: absolute;border-left: 1px solid gray;box-sizing: border-box;top: 0;bottom: 0;left: 50%;z-index: -1;}#sk-container-id-1 div.sk-parallel-item {display: flex;flex-direction: column;z-index: 1;position: relative;background-color: white;}#sk-container-id-1 div.sk-parallel-item:first-child::after {align-self: flex-end;width: 50%;}#sk-container-id-1 div.sk-parallel-item:last-child::after {align-self: flex-start;width: 50%;}#sk-container-id-1 div.sk-parallel-item:only-child::after {width: 0;}#sk-container-id-1 div.sk-dashed-wrapped {border: 1px dashed gray;margin: 0 0.4em 0.5em 0.4em;box-sizing: border-box;padding-bottom: 0.4em;background-color: white;}#sk-container-id-1 div.sk-label label {font-family: monospace;font-weight: bold;display: inline-block;line-height: 1.2em;}#sk-container-id-1 div.sk-label-container {text-align: center;}#sk-container-id-1 div.sk-container {/* jupyter's `normalize.less` sets `[hidden] { display: none; }` but bootstrap.min.css set `[hidden] { display: none !important; }` so we also need the `!important` here to be able to override the default hidden behavior on the sphinx rendered scikit-learn.org. See: https://github.com/scikit-learn/scikit-learn/issues/21755 */display: inline-block !important;position: relative;}#sk-container-id-1 div.sk-text-repr-fallback {display: none;}</style><div id=\"sk-container-id-1\" class=\"sk-top-container\"><div class=\"sk-text-repr-fallback\"><pre>LogisticRegression(max_iter=1000)</pre><b>In a Jupyter environment, please rerun this cell to show the HTML representation or trust the notebook. <br />On GitHub, the HTML representation is unable to render, please try loading this page with nbviewer.org.</b></div><div class=\"sk-container\" hidden><div class=\"sk-item\"><div class=\"sk-estimator sk-toggleable\"><input class=\"sk-toggleable__control sk-hidden--visually\" id=\"sk-estimator-id-1\" type=\"checkbox\" checked><label for=\"sk-estimator-id-1\" class=\"sk-toggleable__label sk-toggleable__label-arrow\">LogisticRegression</label><div class=\"sk-toggleable__content\"><pre>LogisticRegression(max_iter=1000)</pre></div></div></div></div></div>"
      ],
      "text/plain": [
       "LogisticRegression(max_iter=1000)"
      ]
     },
     "execution_count": 12,
     "metadata": {},
     "output_type": "execute_result"
    }
   ],
   "source": [
    "model.fit(X_train_scaled, Y_train)"
   ]
  },
  {
   "cell_type": "code",
   "execution_count": 13,
   "metadata": {},
   "outputs": [
    {
     "data": {
      "text/plain": [
       "array([0, 0, 1, ..., 1, 0, 1], dtype=int64)"
      ]
     },
     "execution_count": 13,
     "metadata": {},
     "output_type": "execute_result"
    }
   ],
   "source": [
    "pred = model.predict(X_test)\n",
    "pred"
   ]
  },
  {
   "cell_type": "code",
   "execution_count": 14,
   "metadata": {},
   "outputs": [
    {
     "name": "stdout",
     "output_type": "stream",
     "text": [
      "0.7583492564592507\n"
     ]
    }
   ],
   "source": [
    "print(accuracy_score(Y_test, pred))"
   ]
  },
  {
   "cell_type": "code",
   "execution_count": 15,
   "metadata": {
    "colab": {
     "base_uri": "https://localhost:8080/"
    },
    "id": "uE79f8lQvYqB",
    "outputId": "1824f448-88b7-47b3-8b40-982f1b2276f4",
    "scrolled": true
   },
   "outputs": [
    {
     "name": "stdout",
     "output_type": "stream",
     "text": [
      "              precision    recall  f1-score   support\n",
      "\n",
      "           0       1.00      0.76      0.86     48147\n",
      "           1       0.00      1.00      0.00         1\n",
      "\n",
      "    accuracy                           0.76     48148\n",
      "   macro avg       0.50      0.88      0.43     48148\n",
      "weighted avg       1.00      0.76      0.86     48148\n",
      "\n"
     ]
    }
   ],
   "source": [
    "report = classification_report(Y_test, pred)\n",
    "print(report)"
   ]
  },
  {
   "cell_type": "code",
   "execution_count": 16,
   "metadata": {},
   "outputs": [
    {
     "data": {
      "text/plain": [
       "(48148,)"
      ]
     },
     "execution_count": 16,
     "metadata": {},
     "output_type": "execute_result"
    }
   ],
   "source": [
    "y_test_data = np.array(Y_test)\n",
    "\n",
    "y_test_data.shape"
   ]
  },
  {
   "cell_type": "markdown",
   "metadata": {},
   "source": [
    "## "
   ]
  },
  {
   "cell_type": "code",
   "execution_count": 18,
   "metadata": {},
   "outputs": [
    {
     "name": "stdout",
     "output_type": "stream",
     "text": [
      "Confusion matrix:  \n",
      "[[36512 11635]\n",
      " [    0     1]]\n"
     ]
    }
   ],
   "source": [
    "conf_matrix = confusion_matrix(Y_test, pred)\n",
    "print(\"Confusion matrix:  \")\n",
    "print(conf_matrix)"
   ]
  },
  {
   "cell_type": "code",
   "execution_count": 19,
   "metadata": {},
   "outputs": [
    {
     "name": "stdout",
     "output_type": "stream",
     "text": [
      "              precision    recall  f1-score   support\n",
      "\n",
      "           0       1.00      0.76      0.86     48147\n",
      "           1       0.00      1.00      0.00         1\n",
      "\n",
      "    accuracy                           0.76     48148\n",
      "   macro avg       0.50      0.88      0.43     48148\n",
      "weighted avg       1.00      0.76      0.86     48148\n",
      "\n"
     ]
    }
   ],
   "source": [
    "class_report = classification_report(Y_test, pred)\n",
    "print(class_report)"
   ]
  },
  {
   "cell_type": "code",
   "execution_count": null,
   "metadata": {},
   "outputs": [],
   "source": []
  }
 ],
 "metadata": {
  "accelerator": "GPU",
  "colab": {
   "gpuType": "T4",
   "provenance": []
  },
  "kernelspec": {
   "display_name": "Python 3 (ipykernel)",
   "language": "python",
   "name": "python3"
  },
  "language_info": {
   "codemirror_mode": {
    "name": "ipython",
    "version": 3
   },
   "file_extension": ".py",
   "mimetype": "text/x-python",
   "name": "python",
   "nbconvert_exporter": "python",
   "pygments_lexer": "ipython3",
   "version": "3.10.11"
  }
 },
 "nbformat": 4,
 "nbformat_minor": 4
}
